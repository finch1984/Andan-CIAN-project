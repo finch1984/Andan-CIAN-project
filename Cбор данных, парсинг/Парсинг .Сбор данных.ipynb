{
 "cells": [
  {
   "cell_type": "markdown",
   "id": "0984833b",
   "metadata": {},
   "source": [
    "# Сбор данных"
   ]
  },
  {
   "cell_type": "code",
   "execution_count": 1,
   "id": "e3b50972",
   "metadata": {},
   "outputs": [],
   "source": [
    "import requests\n",
    "from bs4 import BeautifulSoup\n",
    "from fake_useragent import UserAgent\n",
    "from urllib.parse import urlencode\n",
    "import pandas as pd\n",
    "import numpy as np\n",
    "import time\n",
    "from tqdm.notebook import tqdm\n",
    "from collections import defaultdict as dd\n",
    "import re"
   ]
  },
  {
   "cell_type": "code",
   "execution_count": 68,
   "id": "698a5c20",
   "metadata": {},
   "outputs": [],
   "source": [
    "# Proxy scrapper, который я использовал для обращения к сайту\n",
    "\n",
    "API_KEY = '*************************'\n",
    "def get_scrape(url):\n",
    "    payload = {'api_key': API_KEY, 'url': url}\n",
    "    proxy_url = 'https://proxy.scrapeops.io/v1/?' + urlencode(payload)\n",
    "    return proxy_url"
   ]
  },
  {
   "cell_type": "code",
   "execution_count": null,
   "id": "6d511fa5",
   "metadata": {},
   "outputs": [],
   "source": [
    "# Буду искать квартиры в новостойках, в пределах cтарой Москвы, любое количество комнат.  Также буду использовать фильтр \n",
    "# метро: \"пешком не более 45 минут\", это необходимо, так как для одной и той же квартиры может показываться расстояние до метро  \n",
    "# как пешком, так и на машине, так и на общественном транспорте, а вычленять всё это очень неудобно при парсинге.  \n",
    "# Тем более в большинстве случаев людей интересует всё-таки именно то, как быстро можно добраться до метрополитена на своих двоих.  \n",
    "# Также установим минимальный лимит на потолки - 2.5 метров, чтобы исключить вероятность того, что на карточке с квартирой \n",
    "# указания на высоту потолков будет отсутствовать.  Будем искать квартиры со всеми видами отделок."
   ]
  },
  {
   "cell_type": "markdown",
   "id": "29ab92d5",
   "metadata": {},
   "source": [
    "## Проход по страницам объектов"
   ]
  },
  {
   "cell_type": "code",
   "execution_count": 12,
   "id": "9ab42cb1",
   "metadata": {},
   "outputs": [],
   "source": [
    "url = 'https://www.cian.ru/sale/flat/284003619/'\n",
    "\n",
    "response_object = requests.get(get_scrape(url))\n",
    "tree_object = BeautifulSoup(response_object.content, 'html.parser')"
   ]
  },
  {
   "cell_type": "code",
   "execution_count": 265,
   "id": "eaac9c98",
   "metadata": {},
   "outputs": [
    {
     "data": {
      "text/plain": [
       "33471000"
      ]
     },
     "execution_count": 265,
     "metadata": {},
     "output_type": "execute_result"
    }
   ],
   "source": [
    "# Достаём цену\n",
    "\n",
    "price = tree_object.find('div', class_='a10a3f92e9--amount--ON6i1')\n",
    "span = price.find('span', class_='a10a3f92e9--color_black_100--kPHhJ')\n",
    "price = int(span.text.replace('\\xa0', '').replace('₽', ''))\n",
    "price"
   ]
  },
  {
   "cell_type": "code",
   "execution_count": null,
   "id": "a8360321",
   "metadata": {
    "tags": [
     "hide_cell"
    ]
   },
   "outputs": [],
   "source": [
    "# Достанем часть информации о квартире, которая хранится в одинаковых тэгах - сначала мне было не очень было понятно, как это\n",
    "# сделать, так как мне постоянно выдавало лишь данные по площади квартиры.  Я обратился к ChatGPT с подводкой:\n",
    "# \"в коде HTML-страницы есть два одинаковых тега с одинаковыми классами, но содержащий разный text как мне в таком случае вытащить эти тексты?\"\n",
    "# Работающий результат получил не сразу - надо использовать select, а не find_all (см. папку ChatGPT в репозитарии, Обращение 1).\n",
    "# Также я обратился к ChatGpt, чтобы понять, как я могу из объекта класса string достать именно ту часть данных, которая \n",
    "# мне нужна (Обращение 2).\n",
    "\n",
    "tags = tree_object.select('div.a10a3f92e9--item--Jp5Qv')\n",
    "features = []\n",
    "for tag in tags:\n",
    "    string = tag.text\n",
    "    features.append(string)\n",
    "if len(features) == 7:\n",
    "    features.pop(2)\n",
    "\n",
    "    \n",
    "# Находим общую площадь квартиры\n",
    "square = features[0]\n",
    "square = square.replace('\\xa0', '').replace('м²', '').replace(',','.')\n",
    "square = re.search(r'([\\d.]+)', square)\n",
    "square = square.group(1) if square else ''\n",
    "print(square)\n",
    "\n",
    "# Находим жилую площадь квартиры \n",
    "if len(features) == 6:\n",
    "    s = features[1]\n",
    "    area_start = s.find('жилая площадь') + len('жилая площадь')\n",
    "    area_end = s.find('\\xa0', area_start)\n",
    "    area = s[area_start:area_end].replace(',', '.').strip('ь')\n",
    "    print(area)\n",
    "\n",
    "# Находим этаж, на котором располагается квартира\n",
    "if len(features) == 6:\n",
    "    floor = features[2]\n",
    "    floor = re.search(r'([\\d.]+)', floor)\n",
    "    floor = floor.group(1) if floor else ''\n",
    "    print(floor)\n",
    "else:\n",
    "    floor = features[1]\n",
    "    floor = re.search(r'([\\d.]+)', floor)\n",
    "    floor = floor.group(1) if floor else ''\n",
    "    print(floor)\n",
    "\n",
    "# Находим этажность здания\n",
    "if len(features) == 6:\n",
    "    height = features[2]\n",
    "    height = re.search(r'из (\\d+)', height)\n",
    "    height = height.group(1) if height else ''\n",
    "    print(height)\n",
    "else:\n",
    "    height = features[1]\n",
    "    height = re.search(r'из (\\d+)', height)\n",
    "    height = height.group(1) if height else ''\n",
    "    print(height)\n",
    "\n",
    "# Находим год сдачи\n",
    "if len(features) == 6:\n",
    "    year = features[3]\n",
    "    year = year[len('Год сдачи'):]\n",
    "    year = int(year)\n",
    "    print(year)\n",
    "else:\n",
    "    year = features[2]\n",
    "    year = year[len('Год сдачи'):]\n",
    "    year = int(year)\n",
    "    print(year)\n",
    "\n",
    "# Находим тип отделки или её отсутствие\n",
    "if len(features) == 6:\n",
    "    finishing = features[5]\n",
    "    finishing = finishing[len('Отделка'):]\n",
    "    print(finishing)\n",
    "else:\n",
    "    finishing = features[4]\n",
    "    finishing = finishing[len('Отделка'):]\n",
    "    print(finishing)"
   ]
  },
  {
   "cell_type": "code",
   "execution_count": 297,
   "id": "8e07e3fc",
   "metadata": {},
   "outputs": [
    {
     "name": "stdout",
     "output_type": "stream",
     "text": [
      "5\n"
     ]
    }
   ],
   "source": [
    "# Найдём необходимое время пешком до метро в минутах\n",
    "metro = (tree_object.find('span', class_ = 'a10a3f92e9--underground_time--YvrcI')).text\n",
    "metro = int(metro.split()[0])\n",
    "print(metro)"
   ]
  },
  {
   "cell_type": "code",
   "execution_count": 298,
   "id": "f015f3a6",
   "metadata": {},
   "outputs": [
    {
     "name": "stdout",
     "output_type": "stream",
     "text": [
      "3.3\n"
     ]
    }
   ],
   "source": [
    "# Найдём высоту потолков\n",
    "list_2 = []\n",
    "tags_2 = tree_object.select('div.a10a3f92e9--group--K5ZqN')\n",
    "for tag_2 in tags_2:\n",
    "    string = tag_2.text\n",
    "    list_2.append(string)\n",
    "for item in list_2:\n",
    "    if 'Высота потолков' in item:\n",
    "        match = re.search(r'Высота потолков([\\d.,]+)', item)\n",
    "        if match:\n",
    "            ceiling = match.group(1)\n",
    "ceiling = ceiling.replace(',', '.')\n",
    "print(ceiling)"
   ]
  },
  {
   "cell_type": "code",
   "execution_count": 24,
   "id": "05771e25",
   "metadata": {},
   "outputs": [
    {
     "name": "stdout",
     "output_type": "stream",
     "text": [
      "Левобережный\n"
     ]
    }
   ],
   "source": [
    "# Найдём район, в котором расположена квартира\n",
    "list_3 = []\n",
    "tags_3 = tree_object.select('div.a10a3f92e9--address-line--GRDTb')\n",
    "for tag_3 in tags_3:\n",
    "    string = tag_3.text\n",
    "    list_3.append(string)\n",
    "    \n",
    "pattern = r'р-н\\s([^,]+)'\n",
    "matches = re.findall(pattern, string)\n",
    "if matches:\n",
    "    district = matches[0]\n",
    "    print(district)"
   ]
  },
  {
   "cell_type": "code",
   "execution_count": 30,
   "id": "d4f75c45",
   "metadata": {},
   "outputs": [],
   "source": [
    "# Собираем всё в одну функцию\n",
    "\n",
    "def parse_one_flat(tree_object):\n",
    "    \n",
    "    price = tree_object.find('div', class_='a10a3f92e9--amount--ON6i1')\n",
    "    span = price.find('span', class_='a10a3f92e9--color_black_100--kPHhJ')\n",
    "    price = int(span.text.replace('\\xa0', '').replace('₽', ''))\n",
    "    \n",
    "    list_3 = []\n",
    "    tags_3 = tree_object.select('div.a10a3f92e9--address-line--GRDTb')\n",
    "    for tag_3 in tags_3:\n",
    "        string = tag_3.text\n",
    "        list_3.append(string)\n",
    "    pattern = r'р-н\\s([^,]+)'\n",
    "    matches = re.findall(pattern, string)\n",
    "    if matches:\n",
    "        district = matches[0]\n",
    "    \n",
    "    tags = tree_object.select('div.a10a3f92e9--item--Jp5Qv')\n",
    "    features = []\n",
    "    for tag in tags:\n",
    "        string = tag.text\n",
    "        features.append(string)\n",
    "    if len(features) == 7:\n",
    "        features.pop(2)\n",
    "        \n",
    "    square = features[0]\n",
    "    square = square.replace('\\xa0', '').replace('м²', '').replace(',','.')\n",
    "    square = re.search(r'([\\d.]+)', square)\n",
    "    square = square.group(1) if square else ''\n",
    "    \n",
    "    if len(features) == 6:\n",
    "        living_square = features[1]\n",
    "        area_start = living_square.find('жилая площадь') + len('жилая площадь')\n",
    "        area_end = living_square.find('\\xa0', area_start)\n",
    "        living_square = living_square[area_start:area_end].replace(',', '.').strip('ь')\n",
    "    else:\n",
    "        living_square = 'empty'\n",
    "\n",
    "    if len(features) == 6:\n",
    "        floor = features[2]\n",
    "        floor = re.search(r'([\\d.]+)', floor)\n",
    "        floor = floor.group(1) if floor else ''\n",
    "    else:\n",
    "        floor = features[1]\n",
    "        floor = re.search(r'([\\d.]+)', floor)\n",
    "        floor = floor.group(1) if floor else ''\n",
    "\n",
    "    if len(features) == 6:\n",
    "        height = features[2]\n",
    "        height = re.search(r'из (\\d+)', height)\n",
    "        height = height.group(1) if height else ''\n",
    "    else:\n",
    "        height = features[1]\n",
    "        height = re.search(r'из (\\d+)', height)\n",
    "        height = height.group(1) if height else ''\n",
    "\n",
    "    if len(features) == 6:\n",
    "        year = features[3]\n",
    "        year = year[len('Год сдачи'):]\n",
    "        year = int(year)\n",
    "    else:\n",
    "        year = features[2]\n",
    "        year = year[len('Год сдачи'):]\n",
    "        year = int(year)\n",
    "\n",
    "    if len(features) == 6:\n",
    "        finishing = features[5]\n",
    "        finishing = finishing[len('Отделка'):]\n",
    "    else:\n",
    "        finishing = features[4]\n",
    "        finishing = finishing[len('Отделка'):]\n",
    "        \n",
    "    metro = (tree_object.find('span', class_ = 'a10a3f92e9--underground_time--YvrcI')).text\n",
    "    metro = int(metro.split()[0])\n",
    "    \n",
    "    list_2 = []\n",
    "    tags_2 = tree_object.select('div.a10a3f92e9--group--K5ZqN')\n",
    "    for tag_2 in tags_2:\n",
    "        string = tag_2.text\n",
    "        list_2.append(string)\n",
    "    for item in list_2:\n",
    "        if 'Высота потолков' in item:\n",
    "            match = re.search(r'Высота потолков([\\d.,]+)', item)\n",
    "        if match:\n",
    "            ceiling = match.group(1)\n",
    "    ceiling = ceiling.replace(',', '.')\n",
    "    \n",
    "    info = {}\n",
    "\n",
    "    info['Цена квартиры'] = price\n",
    "    info['Район'] = district\n",
    "    info['Время до метро (пешком)'] = metro\n",
    "    info['Общая площадь'] = square\n",
    "    info['Жилая площадь'] = living_square\n",
    "    info['Этаж'] = floor\n",
    "    info['Этажей в доме'] = height\n",
    "    info['Год сдачи'] = year\n",
    "    info['Отделка'] = finishing\n",
    "    info['Высота потолков'] = ceiling\n",
    "    \n",
    "    return info"
   ]
  },
  {
   "cell_type": "code",
   "execution_count": 52,
   "id": "45df1f59",
   "metadata": {},
   "outputs": [],
   "source": [
    "# Cоберём ссылки, с которых нужно спарсить данные. Этот способ (как и ячейка ниже) взят из тетрадки с семинаров 2022 года по Программированию.\n",
    "\n",
    "d = dd(lambda:{})\n",
    "for page in range(1,40):\n",
    "    url_page = f'https://www.cian.ru/cat.php?deal_type=sale&decorations_list%5B0%5D=fine&decorations_list%5B1%5D=fineWithFurniture&decorations_list%5B2%5D=preFine&decorations_list%5B3%5D=without&engine_version=2&foot_min=45&min_ceiling_height=2.5&minlarea=1&object_type%5B0%5D=2&offer_type=flat&only_foot=2&p={page}&region=1&room1=1&room2=1&room3=1&room4=1&room5=1&room6=1'\n",
    "    response = requests.get(get_scrape(url_page))\n",
    "    tree = BeautifulSoup(response.content, 'html.parser')\n",
    "    flats_on_page = tree.find_all('a', class_='_93444fe79c--link--eoxce')\n",
    "    for flat in flats_on_page:\n",
    "        href = flat.get('href')\n",
    "        d[href] = {'href': href}"
   ]
  },
  {
   "cell_type": "code",
   "execution_count": null,
   "id": "72c91881",
   "metadata": {},
   "outputs": [],
   "source": [
    "# Ошибки \"local variable 'district' referenced before assignment\" связаны с тем, что по ссылке находятся квартиры в новой Москве,\n",
    "# структура html-разметки которых немного иная, их решено не брать в датафрейм.\n",
    "# P.S. output скрыл, чтобы улучшить читаемость\n",
    "\n",
    "for i in tqdm(d):\n",
    "    try:\n",
    "        response_object = requests.get(get_scrape(i))\n",
    "        response_object.raise_for_status()  # Генерирует исключение, если получен ответ с ошибкой (не 200 OK)\n",
    "        tree_object = BeautifulSoup(response_object.content, 'html.parser')\n",
    "        result = parse_one_flat(tree_object)\n",
    "        d[i].update(result)\n",
    "    except requests.exceptions.HTTPError:\n",
    "        print(f\"Ошибка HTTP 500 при запросе {i}. Повторный запрос.\")\n",
    "        # Повторный запрос\n",
    "        response_object = requests.get(get_scrape(i))\n",
    "        response_object.raise_for_status()\n",
    "        tree_object = BeautifulSoup(response_object.content, 'html.parser')\n",
    "        result = parse_one_flat(tree_object)\n",
    "        d[i].update(result)\n",
    "    except Exception as e:\n",
    "        print(f\"Произошла ошибка при запросе {i}: {str(e)}\")"
   ]
  },
  {
   "cell_type": "code",
   "execution_count": 61,
   "id": "9dca2728",
   "metadata": {},
   "outputs": [],
   "source": [
    "df = pd.DataFrame(d).T\n",
    "df.to_excel('project.xlsx', index=False)"
   ]
  },
  {
   "cell_type": "code",
   "execution_count": 67,
   "id": "bf10ae9e",
   "metadata": {},
   "outputs": [
    {
     "data": {
      "text/plain": [
       "738"
      ]
     },
     "execution_count": 67,
     "metadata": {},
     "output_type": "execute_result"
    }
   ],
   "source": [
    "# Проверил, сколько объектов удалось собрать\n",
    "df['Цена квартиры'].nunique()"
   ]
  },
  {
   "cell_type": "code",
   "execution_count": 84,
   "id": "067b907c",
   "metadata": {},
   "outputs": [],
   "source": [
    "# Добъём до 1000 объектов\n",
    "d2 = dd(lambda:{})\n",
    "for page in range(40,52):\n",
    "    url_page = f'https://www.cian.ru/cat.php?deal_type=sale&decorations_list%5B0%5D=fine&decorations_list%5B1%5D=fineWithFurniture&decorations_list%5B2%5D=preFine&decorations_list%5B3%5D=without&engine_version=2&foot_min=45&min_ceiling_height=2.5&minlarea=1&object_type%5B0%5D=2&offer_type=flat&only_foot=2&p={page}&region=1&room1=1&room2=1&room3=1&room4=1&room5=1&room6=1'\n",
    "    response = requests.get(get_scrape(url_page))\n",
    "    tree = BeautifulSoup(response.content, 'html.parser')\n",
    "    flats_on_page = tree.find_all('a', class_='_93444fe79c--link--eoxce')\n",
    "    for flat in flats_on_page:\n",
    "        href = flat.get('href')\n",
    "        d2[href] = {'href': href}"
   ]
  },
  {
   "cell_type": "code",
   "execution_count": null,
   "id": "cc6625dc",
   "metadata": {},
   "outputs": [],
   "source": [
    "for i in tqdm(d2):\n",
    "    try:\n",
    "        response_object = requests.get(get_scrape(i))\n",
    "        response_object.raise_for_status()  # Генерирует исключение, если получен ответ с ошибкой (не 200 OK)\n",
    "        tree_object = BeautifulSoup(response_object.content, 'html.parser')\n",
    "        result = parse_one_flat(tree_object)\n",
    "        d[i].update(result)\n",
    "    except requests.exceptions.HTTPError:\n",
    "        print(f\"Ошибка HTTP 500 при запросе {i}. Повторный запрос.\")\n",
    "        # Повторный запрос\n",
    "        response_object = requests.get(get_scrape(i))\n",
    "        response_object.raise_for_status()\n",
    "        tree_object = BeautifulSoup(response_object.content, 'html.parser')\n",
    "        result = parse_one_flat(tree_object)\n",
    "        d[i].update(result)\n",
    "    except Exception as e:\n",
    "        print(f\"Произошла ошибка при запросе {i}: {str(e)}\")"
   ]
  },
  {
   "cell_type": "code",
   "execution_count": 125,
   "id": "5730f1b2",
   "metadata": {},
   "outputs": [],
   "source": [
    "df_2 = pd.DataFrame(d).T"
   ]
  },
  {
   "cell_type": "code",
   "execution_count": 135,
   "id": "bc277fa9",
   "metadata": {},
   "outputs": [],
   "source": [
    "df = pd.read_excel('C:/project_one.xlsx')"
   ]
  },
  {
   "cell_type": "code",
   "execution_count": 137,
   "id": "ea1a6dc5",
   "metadata": {},
   "outputs": [],
   "source": [
    "df = df = df.set_index('href')"
   ]
  },
  {
   "cell_type": "code",
   "execution_count": 139,
   "id": "d6364040",
   "metadata": {},
   "outputs": [],
   "source": [
    "df = df.drop('Unnamed: 0', axis=1)"
   ]
  },
  {
   "cell_type": "code",
   "execution_count": 148,
   "id": "7d338688",
   "metadata": {},
   "outputs": [],
   "source": [
    "result = pd.concat([df, df_2])\n",
    "result.to_excel('MaximDavydovProject.xlsx')"
   ]
  }
 ],
 "metadata": {
  "kernelspec": {
   "display_name": "Python 3 (ipykernel)",
   "language": "python",
   "name": "python3"
  },
  "language_info": {
   "codemirror_mode": {
    "name": "ipython",
    "version": 3
   },
   "file_extension": ".py",
   "mimetype": "text/x-python",
   "name": "python",
   "nbconvert_exporter": "python",
   "pygments_lexer": "ipython3",
   "version": "3.9.7"
  }
 },
 "nbformat": 4,
 "nbformat_minor": 5
}
