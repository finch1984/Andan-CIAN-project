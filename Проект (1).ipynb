{
 "cells": [
  {
   "cell_type": "code",
   "execution_count": 1,
   "id": "5948f028",
   "metadata": {},
   "outputs": [],
   "source": [
    "import pandas as pd\n",
    "import numpy as np\n",
    "import scipy.stats as sts\n",
    "import matplotlib.pyplot as plt\n",
    "import seaborn as sns\n"
   ]
  },
  {
   "cell_type": "markdown",
   "id": "addd3ea3",
   "metadata": {},
   "source": [
    "## Предворительная обработка"
   ]
  },
  {
   "cell_type": "code",
   "execution_count": 2,
   "id": "c11d952d",
   "metadata": {},
   "outputs": [
    {
     "data": {
      "text/html": [
       "<div>\n",
       "<style scoped>\n",
       "    .dataframe tbody tr th:only-of-type {\n",
       "        vertical-align: middle;\n",
       "    }\n",
       "\n",
       "    .dataframe tbody tr th {\n",
       "        vertical-align: top;\n",
       "    }\n",
       "\n",
       "    .dataframe thead th {\n",
       "        text-align: right;\n",
       "    }\n",
       "</style>\n",
       "<table border=\"1\" class=\"dataframe\">\n",
       "  <thead>\n",
       "    <tr style=\"text-align: right;\">\n",
       "      <th></th>\n",
       "      <th>Цена квартиры</th>\n",
       "      <th>Район</th>\n",
       "      <th>Время до метро (пешком)</th>\n",
       "      <th>Общая площадь</th>\n",
       "      <th>Жилая площадь</th>\n",
       "      <th>Этаж</th>\n",
       "      <th>Этажей в доме</th>\n",
       "      <th>Год сдачи</th>\n",
       "      <th>Отделка</th>\n",
       "      <th>Высота потолков</th>\n",
       "    </tr>\n",
       "    <tr>\n",
       "      <th>Ссылка</th>\n",
       "      <th></th>\n",
       "      <th></th>\n",
       "      <th></th>\n",
       "      <th></th>\n",
       "      <th></th>\n",
       "      <th></th>\n",
       "      <th></th>\n",
       "      <th></th>\n",
       "      <th></th>\n",
       "      <th></th>\n",
       "    </tr>\n",
       "  </thead>\n",
       "  <tbody>\n",
       "    <tr>\n",
       "      <th>https://www.cian.ru/sale/flat/287316997/</th>\n",
       "      <td>37031000</td>\n",
       "      <td>Хамовники</td>\n",
       "      <td>15</td>\n",
       "      <td>49.80</td>\n",
       "      <td>11.3</td>\n",
       "      <td>4</td>\n",
       "      <td>18.0</td>\n",
       "      <td>2026</td>\n",
       "      <td>Без отделки</td>\n",
       "      <td>3.25</td>\n",
       "    </tr>\n",
       "    <tr>\n",
       "      <th>https://www.cian.ru/sale/flat/284003619/</th>\n",
       "      <td>62100000</td>\n",
       "      <td>Левобережный</td>\n",
       "      <td>5</td>\n",
       "      <td>123.11</td>\n",
       "      <td>70.4</td>\n",
       "      <td>13</td>\n",
       "      <td>20.0</td>\n",
       "      <td>2022</td>\n",
       "      <td>Чистовая</td>\n",
       "      <td>3.30</td>\n",
       "    </tr>\n",
       "    <tr>\n",
       "      <th>https://www.cian.ru/sale/flat/286934990/</th>\n",
       "      <td>115883000</td>\n",
       "      <td>Хамовники</td>\n",
       "      <td>15</td>\n",
       "      <td>156.20</td>\n",
       "      <td>57.6</td>\n",
       "      <td>12</td>\n",
       "      <td>18.0</td>\n",
       "      <td>2026</td>\n",
       "      <td>Без отделки</td>\n",
       "      <td>3.25</td>\n",
       "    </tr>\n",
       "    <tr>\n",
       "      <th>https://www.cian.ru/sale/flat/281845936/</th>\n",
       "      <td>89354602</td>\n",
       "      <td>Пресненский</td>\n",
       "      <td>14</td>\n",
       "      <td>140.77</td>\n",
       "      <td>62.8</td>\n",
       "      <td>14</td>\n",
       "      <td>26.0</td>\n",
       "      <td>2025</td>\n",
       "      <td>Без отделки</td>\n",
       "      <td>3.10</td>\n",
       "    </tr>\n",
       "    <tr>\n",
       "      <th>https://www.cian.ru/sale/flat/286934993/</th>\n",
       "      <td>89915000</td>\n",
       "      <td>Хамовники</td>\n",
       "      <td>15</td>\n",
       "      <td>122.60</td>\n",
       "      <td>44.7</td>\n",
       "      <td>12</td>\n",
       "      <td>18.0</td>\n",
       "      <td>2026</td>\n",
       "      <td>Без отделки</td>\n",
       "      <td>3.25</td>\n",
       "    </tr>\n",
       "  </tbody>\n",
       "</table>\n",
       "</div>"
      ],
      "text/plain": [
       "                                          Цена квартиры         Район  \\\n",
       "Ссылка                                                                  \n",
       "https://www.cian.ru/sale/flat/287316997/       37031000     Хамовники   \n",
       "https://www.cian.ru/sale/flat/284003619/       62100000  Левобережный   \n",
       "https://www.cian.ru/sale/flat/286934990/      115883000     Хамовники   \n",
       "https://www.cian.ru/sale/flat/281845936/       89354602   Пресненский   \n",
       "https://www.cian.ru/sale/flat/286934993/       89915000     Хамовники   \n",
       "\n",
       "                                          Время до метро (пешком)  \\\n",
       "Ссылка                                                              \n",
       "https://www.cian.ru/sale/flat/287316997/                       15   \n",
       "https://www.cian.ru/sale/flat/284003619/                        5   \n",
       "https://www.cian.ru/sale/flat/286934990/                       15   \n",
       "https://www.cian.ru/sale/flat/281845936/                       14   \n",
       "https://www.cian.ru/sale/flat/286934993/                       15   \n",
       "\n",
       "                                          Общая площадь  Жилая площадь  Этаж  \\\n",
       "Ссылка                                                                         \n",
       "https://www.cian.ru/sale/flat/287316997/          49.80           11.3     4   \n",
       "https://www.cian.ru/sale/flat/284003619/         123.11           70.4    13   \n",
       "https://www.cian.ru/sale/flat/286934990/         156.20           57.6    12   \n",
       "https://www.cian.ru/sale/flat/281845936/         140.77           62.8    14   \n",
       "https://www.cian.ru/sale/flat/286934993/         122.60           44.7    12   \n",
       "\n",
       "                                          Этажей в доме  Год сдачи  \\\n",
       "Ссылка                                                               \n",
       "https://www.cian.ru/sale/flat/287316997/           18.0       2026   \n",
       "https://www.cian.ru/sale/flat/284003619/           20.0       2022   \n",
       "https://www.cian.ru/sale/flat/286934990/           18.0       2026   \n",
       "https://www.cian.ru/sale/flat/281845936/           26.0       2025   \n",
       "https://www.cian.ru/sale/flat/286934993/           18.0       2026   \n",
       "\n",
       "                                              Отделка  Высота потолков  \n",
       "Ссылка                                                                  \n",
       "https://www.cian.ru/sale/flat/287316997/  Без отделки             3.25  \n",
       "https://www.cian.ru/sale/flat/284003619/     Чистовая             3.30  \n",
       "https://www.cian.ru/sale/flat/286934990/  Без отделки             3.25  \n",
       "https://www.cian.ru/sale/flat/281845936/  Без отделки             3.10  \n",
       "https://www.cian.ru/sale/flat/286934993/  Без отделки             3.25  "
      ]
     },
     "execution_count": 2,
     "metadata": {},
     "output_type": "execute_result"
    }
   ],
   "source": [
    "df = pd.read_excel('C:/data.xlsx')\n",
    "df = df.rename(columns={'Unnamed: 0': 'Ссылка'})\n",
    "df = df.set_index('Ссылка')\n",
    "df.head(5)"
   ]
  },
  {
   "cell_type": "code",
   "execution_count": 3,
   "id": "c9ab52eb",
   "metadata": {},
   "outputs": [
    {
     "name": "stdout",
     "output_type": "stream",
     "text": [
      "<class 'pandas.core.frame.DataFrame'>\n",
      "Index: 984 entries, https://www.cian.ru/sale/flat/287316997/ to https://www.cian.ru/sale/flat/274079207/\n",
      "Data columns (total 10 columns):\n",
      " #   Column                   Non-Null Count  Dtype  \n",
      "---  ------                   --------------  -----  \n",
      " 0   Цена квартиры            984 non-null    int64  \n",
      " 1   Район                    984 non-null    object \n",
      " 2   Время до метро (пешком)  984 non-null    int64  \n",
      " 3   Общая площадь            984 non-null    float64\n",
      " 4   Жилая площадь            984 non-null    float64\n",
      " 5   Этаж                     984 non-null    int64  \n",
      " 6   Этажей в доме            974 non-null    float64\n",
      " 7   Год сдачи                984 non-null    int64  \n",
      " 8   Отделка                  984 non-null    object \n",
      " 9   Высота потолков          984 non-null    float64\n",
      "dtypes: float64(4), int64(4), object(2)\n",
      "memory usage: 84.6+ KB\n"
     ]
    }
   ],
   "source": [
    "df.info()"
   ]
  },
  {
   "cell_type": "code",
   "execution_count": 4,
   "id": "7adbc083",
   "metadata": {},
   "outputs": [
    {
     "data": {
      "text/html": [
       "<div>\n",
       "<style scoped>\n",
       "    .dataframe tbody tr th:only-of-type {\n",
       "        vertical-align: middle;\n",
       "    }\n",
       "\n",
       "    .dataframe tbody tr th {\n",
       "        vertical-align: top;\n",
       "    }\n",
       "\n",
       "    .dataframe thead th {\n",
       "        text-align: right;\n",
       "    }\n",
       "</style>\n",
       "<table border=\"1\" class=\"dataframe\">\n",
       "  <thead>\n",
       "    <tr style=\"text-align: right;\">\n",
       "      <th></th>\n",
       "      <th>Цена квартиры</th>\n",
       "      <th>Район</th>\n",
       "      <th>Время до метро (пешком)</th>\n",
       "      <th>Общая площадь</th>\n",
       "      <th>Жилая площадь</th>\n",
       "      <th>Этаж</th>\n",
       "      <th>Этажей в доме</th>\n",
       "      <th>Год сдачи</th>\n",
       "      <th>Отделка</th>\n",
       "      <th>Высота потолков</th>\n",
       "    </tr>\n",
       "    <tr>\n",
       "      <th>Ссылка</th>\n",
       "      <th></th>\n",
       "      <th></th>\n",
       "      <th></th>\n",
       "      <th></th>\n",
       "      <th></th>\n",
       "      <th></th>\n",
       "      <th></th>\n",
       "      <th></th>\n",
       "      <th></th>\n",
       "      <th></th>\n",
       "    </tr>\n",
       "  </thead>\n",
       "  <tbody>\n",
       "    <tr>\n",
       "      <th>https://www.cian.ru/sale/flat/268579037/</th>\n",
       "      <td>107835200</td>\n",
       "      <td>Арбат</td>\n",
       "      <td>4</td>\n",
       "      <td>111.4</td>\n",
       "      <td>50.8</td>\n",
       "      <td>12</td>\n",
       "      <td>NaN</td>\n",
       "      <td>6</td>\n",
       "      <td>Без отделки</td>\n",
       "      <td>3.2</td>\n",
       "    </tr>\n",
       "    <tr>\n",
       "      <th>https://www.cian.ru/sale/flat/268579035/</th>\n",
       "      <td>133420000</td>\n",
       "      <td>Арбат</td>\n",
       "      <td>4</td>\n",
       "      <td>140.0</td>\n",
       "      <td>67.8</td>\n",
       "      <td>14</td>\n",
       "      <td>NaN</td>\n",
       "      <td>6</td>\n",
       "      <td>Без отделки</td>\n",
       "      <td>3.2</td>\n",
       "    </tr>\n",
       "    <tr>\n",
       "      <th>https://www.cian.ru/sale/flat/268579027/</th>\n",
       "      <td>174494300</td>\n",
       "      <td>Арбат</td>\n",
       "      <td>5</td>\n",
       "      <td>183.1</td>\n",
       "      <td>92.8</td>\n",
       "      <td>21</td>\n",
       "      <td>NaN</td>\n",
       "      <td>5</td>\n",
       "      <td>Без отделки</td>\n",
       "      <td>3.2</td>\n",
       "    </tr>\n",
       "    <tr>\n",
       "      <th>https://www.cian.ru/sale/flat/268579028/</th>\n",
       "      <td>178149600</td>\n",
       "      <td>Арбат</td>\n",
       "      <td>5</td>\n",
       "      <td>181.6</td>\n",
       "      <td>77.7</td>\n",
       "      <td>20</td>\n",
       "      <td>NaN</td>\n",
       "      <td>5</td>\n",
       "      <td>Без отделки</td>\n",
       "      <td>3.2</td>\n",
       "    </tr>\n",
       "    <tr>\n",
       "      <th>https://www.cian.ru/sale/flat/268579032/</th>\n",
       "      <td>101191500</td>\n",
       "      <td>Арбат</td>\n",
       "      <td>5</td>\n",
       "      <td>101.7</td>\n",
       "      <td>51.2</td>\n",
       "      <td>13</td>\n",
       "      <td>NaN</td>\n",
       "      <td>6</td>\n",
       "      <td>Без отделки</td>\n",
       "      <td>3.0</td>\n",
       "    </tr>\n",
       "    <tr>\n",
       "      <th>https://www.cian.ru/sale/flat/268579031/</th>\n",
       "      <td>90726400</td>\n",
       "      <td>Арбат</td>\n",
       "      <td>5</td>\n",
       "      <td>102.4</td>\n",
       "      <td>51.2</td>\n",
       "      <td>13</td>\n",
       "      <td>NaN</td>\n",
       "      <td>6</td>\n",
       "      <td>Без отделки</td>\n",
       "      <td>3.0</td>\n",
       "    </tr>\n",
       "    <tr>\n",
       "      <th>https://www.cian.ru/sale/flat/268579036/</th>\n",
       "      <td>104544100</td>\n",
       "      <td>Арбат</td>\n",
       "      <td>4</td>\n",
       "      <td>109.7</td>\n",
       "      <td>48.9</td>\n",
       "      <td>12</td>\n",
       "      <td>NaN</td>\n",
       "      <td>6</td>\n",
       "      <td>Без отделки</td>\n",
       "      <td>3.2</td>\n",
       "    </tr>\n",
       "    <tr>\n",
       "      <th>https://www.cian.ru/sale/flat/268579035/</th>\n",
       "      <td>133420000</td>\n",
       "      <td>Арбат</td>\n",
       "      <td>4</td>\n",
       "      <td>140.0</td>\n",
       "      <td>67.8</td>\n",
       "      <td>14</td>\n",
       "      <td>NaN</td>\n",
       "      <td>6</td>\n",
       "      <td>Без отделки</td>\n",
       "      <td>3.2</td>\n",
       "    </tr>\n",
       "    <tr>\n",
       "      <th>https://www.cian.ru/sale/flat/268579027/</th>\n",
       "      <td>174494300</td>\n",
       "      <td>Арбат</td>\n",
       "      <td>5</td>\n",
       "      <td>183.1</td>\n",
       "      <td>92.8</td>\n",
       "      <td>21</td>\n",
       "      <td>NaN</td>\n",
       "      <td>5</td>\n",
       "      <td>Без отделки</td>\n",
       "      <td>3.2</td>\n",
       "    </tr>\n",
       "    <tr>\n",
       "      <th>https://www.cian.ru/sale/flat/268579028/</th>\n",
       "      <td>178149600</td>\n",
       "      <td>Арбат</td>\n",
       "      <td>5</td>\n",
       "      <td>181.6</td>\n",
       "      <td>77.7</td>\n",
       "      <td>20</td>\n",
       "      <td>NaN</td>\n",
       "      <td>5</td>\n",
       "      <td>Без отделки</td>\n",
       "      <td>3.2</td>\n",
       "    </tr>\n",
       "  </tbody>\n",
       "</table>\n",
       "</div>"
      ],
      "text/plain": [
       "                                          Цена квартиры  Район  \\\n",
       "Ссылка                                                           \n",
       "https://www.cian.ru/sale/flat/268579037/      107835200  Арбат   \n",
       "https://www.cian.ru/sale/flat/268579035/      133420000  Арбат   \n",
       "https://www.cian.ru/sale/flat/268579027/      174494300  Арбат   \n",
       "https://www.cian.ru/sale/flat/268579028/      178149600  Арбат   \n",
       "https://www.cian.ru/sale/flat/268579032/      101191500  Арбат   \n",
       "https://www.cian.ru/sale/flat/268579031/       90726400  Арбат   \n",
       "https://www.cian.ru/sale/flat/268579036/      104544100  Арбат   \n",
       "https://www.cian.ru/sale/flat/268579035/      133420000  Арбат   \n",
       "https://www.cian.ru/sale/flat/268579027/      174494300  Арбат   \n",
       "https://www.cian.ru/sale/flat/268579028/      178149600  Арбат   \n",
       "\n",
       "                                          Время до метро (пешком)  \\\n",
       "Ссылка                                                              \n",
       "https://www.cian.ru/sale/flat/268579037/                        4   \n",
       "https://www.cian.ru/sale/flat/268579035/                        4   \n",
       "https://www.cian.ru/sale/flat/268579027/                        5   \n",
       "https://www.cian.ru/sale/flat/268579028/                        5   \n",
       "https://www.cian.ru/sale/flat/268579032/                        5   \n",
       "https://www.cian.ru/sale/flat/268579031/                        5   \n",
       "https://www.cian.ru/sale/flat/268579036/                        4   \n",
       "https://www.cian.ru/sale/flat/268579035/                        4   \n",
       "https://www.cian.ru/sale/flat/268579027/                        5   \n",
       "https://www.cian.ru/sale/flat/268579028/                        5   \n",
       "\n",
       "                                          Общая площадь  Жилая площадь  Этаж  \\\n",
       "Ссылка                                                                         \n",
       "https://www.cian.ru/sale/flat/268579037/          111.4           50.8    12   \n",
       "https://www.cian.ru/sale/flat/268579035/          140.0           67.8    14   \n",
       "https://www.cian.ru/sale/flat/268579027/          183.1           92.8    21   \n",
       "https://www.cian.ru/sale/flat/268579028/          181.6           77.7    20   \n",
       "https://www.cian.ru/sale/flat/268579032/          101.7           51.2    13   \n",
       "https://www.cian.ru/sale/flat/268579031/          102.4           51.2    13   \n",
       "https://www.cian.ru/sale/flat/268579036/          109.7           48.9    12   \n",
       "https://www.cian.ru/sale/flat/268579035/          140.0           67.8    14   \n",
       "https://www.cian.ru/sale/flat/268579027/          183.1           92.8    21   \n",
       "https://www.cian.ru/sale/flat/268579028/          181.6           77.7    20   \n",
       "\n",
       "                                          Этажей в доме  Год сдачи  \\\n",
       "Ссылка                                                               \n",
       "https://www.cian.ru/sale/flat/268579037/            NaN          6   \n",
       "https://www.cian.ru/sale/flat/268579035/            NaN          6   \n",
       "https://www.cian.ru/sale/flat/268579027/            NaN          5   \n",
       "https://www.cian.ru/sale/flat/268579028/            NaN          5   \n",
       "https://www.cian.ru/sale/flat/268579032/            NaN          6   \n",
       "https://www.cian.ru/sale/flat/268579031/            NaN          6   \n",
       "https://www.cian.ru/sale/flat/268579036/            NaN          6   \n",
       "https://www.cian.ru/sale/flat/268579035/            NaN          6   \n",
       "https://www.cian.ru/sale/flat/268579027/            NaN          5   \n",
       "https://www.cian.ru/sale/flat/268579028/            NaN          5   \n",
       "\n",
       "                                              Отделка  Высота потолков  \n",
       "Ссылка                                                                  \n",
       "https://www.cian.ru/sale/flat/268579037/  Без отделки              3.2  \n",
       "https://www.cian.ru/sale/flat/268579035/  Без отделки              3.2  \n",
       "https://www.cian.ru/sale/flat/268579027/  Без отделки              3.2  \n",
       "https://www.cian.ru/sale/flat/268579028/  Без отделки              3.2  \n",
       "https://www.cian.ru/sale/flat/268579032/  Без отделки              3.0  \n",
       "https://www.cian.ru/sale/flat/268579031/  Без отделки              3.0  \n",
       "https://www.cian.ru/sale/flat/268579036/  Без отделки              3.2  \n",
       "https://www.cian.ru/sale/flat/268579035/  Без отделки              3.2  \n",
       "https://www.cian.ru/sale/flat/268579027/  Без отделки              3.2  \n",
       "https://www.cian.ru/sale/flat/268579028/  Без отделки              3.2  "
      ]
     },
     "execution_count": 4,
     "metadata": {},
     "output_type": "execute_result"
    }
   ],
   "source": [
    "# В 10 строках переменная \"Этажей в доме\" имеет значение NaN. Выведем список таких квартир, перейдём по ссылкам и посмотрим,\n",
    "# что с ними не так.\n",
    "\n",
    "df.loc[df['Этажей в доме'].isnull()]"
   ]
  },
  {
   "cell_type": "code",
   "execution_count": 5,
   "id": "5aa3cddb",
   "metadata": {},
   "outputs": [],
   "source": [
    "# Все эти квартиры являются частью ЖК «De Luxe квартал апартаментов «Театральный Дом»». Они имеют немного иную html-разметку,\n",
    "# (поэтому год сдачи отображается неадекватно, а этажность не соотвествует действительности), поэтому криво спарсились. Просто \n",
    "# удалим их.\n",
    "\n",
    "df = df.dropna(subset=['Этажей в доме'])"
   ]
  },
  {
   "cell_type": "code",
   "execution_count": 6,
   "id": "d10f8b89",
   "metadata": {},
   "outputs": [],
   "source": [
    "# Названия переменных полно и чётко отражают их описание."
   ]
  },
  {
   "cell_type": "markdown",
   "id": "268affd3",
   "metadata": {},
   "source": [
    "## Визуализация"
   ]
  },
  {
   "cell_type": "code",
   "execution_count": 52,
   "id": "e51310ce",
   "metadata": {},
   "outputs": [
    {
     "data": {
      "image/png": "[encoded data removed]",
      "text/plain": [
       "<Figure size 432x288 with 1 Axes>"
      ]
     },
     "metadata": {
      "needs_background": "light"
     },
     "output_type": "display_data"
    }
   ],
   "source": [
    "# В целевой переменной (цена квартиры) есть выбросы, надо подумать, как с ними бороться.\n",
    "\n",
    "plt.hist(df['Цена квартиры'])\n",
    "plt.ticklabel_format(style='plain', axis='x')"
   ]
  },
  {
   "cell_type": "code",
   "execution_count": 57,
   "id": "54202446",
   "metadata": {},
   "outputs": [
    {
     "data": {
      "text/plain": [
       "<matplotlib.collections.PathCollection at 0x21e773cac10>"
      ]
     },
     "execution_count": 57,
     "metadata": {},
     "output_type": "execute_result"
    },
    {
     "data": {
      "image/png": "[encoded data removed]",
      "text/plain": [
       "<Figure size 432x288 with 1 Axes>"
      ]
     },
     "metadata": {
      "needs_background": "light"
     },
     "output_type": "display_data"
    }
   ],
   "source": [
    "# Вряд ли между ценой квартиры и временем до метро есть связь\n",
    "plt.scatter(df['Цена квартиры'], df['Время до метро (пешком)'])"
   ]
  },
  {
   "cell_type": "code",
   "execution_count": 58,
   "id": "6f2d43c7",
   "metadata": {},
   "outputs": [
    {
     "data": {
      "text/plain": [
       "<matplotlib.collections.PathCollection at 0x21e798e3c70>"
      ]
     },
     "execution_count": 58,
     "metadata": {},
     "output_type": "execute_result"
    },
    {
     "data": {
      "image/png": "[encoded data removed]",
      "text/plain": [
       "<Figure size 432x288 with 1 Axes>"
      ]
     },
     "metadata": {
      "needs_background": "light"
     },
     "output_type": "display_data"
    }
   ],
   "source": [
    "# Прослеживается, что между ценой квартиры и общей площадью есть какая-то линейная связь\n",
    "plt.scatter(df['Цена квартиры'], df['Общая площадь'])"
   ]
  },
  {
   "cell_type": "code",
   "execution_count": 59,
   "id": "34bf98a9",
   "metadata": {},
   "outputs": [
    {
     "data": {
      "text/plain": [
       "<matplotlib.collections.PathCollection at 0x21e77843c40>"
      ]
     },
     "execution_count": 59,
     "metadata": {},
     "output_type": "execute_result"
    },
    {
     "data": {
      "image/png": "[encoded data removed]",
      "text/plain": [
       "<Figure size 432x288 with 1 Axes>"
      ]
     },
     "metadata": {
      "needs_background": "light"
     },
     "output_type": "display_data"
    }
   ],
   "source": [
    "plt.scatter(df['Цена квартиры'], df['Жилая площадь'])"
   ]
  },
  {
   "cell_type": "code",
   "execution_count": 60,
   "id": "9b24802e",
   "metadata": {},
   "outputs": [
    {
     "data": {
      "text/plain": [
       "<matplotlib.collections.PathCollection at 0x21e79290d30>"
      ]
     },
     "execution_count": 60,
     "metadata": {},
     "output_type": "execute_result"
    },
    {
     "data": {
      "image/png": "[encoded data removed]",
      "text/plain": [
       "<Figure size 432x288 with 1 Axes>"
      ]
     },
     "metadata": {
      "needs_background": "light"
     },
     "output_type": "display_data"
    }
   ],
   "source": [
    "plt.scatter(df['Цена квартиры'], df['Этаж'])"
   ]
  },
  {
   "cell_type": "code",
   "execution_count": 61,
   "id": "59bc3b68",
   "metadata": {},
   "outputs": [
    {
     "data": {
      "text/plain": [
       "<matplotlib.collections.PathCollection at 0x21e77658c10>"
      ]
     },
     "execution_count": 61,
     "metadata": {},
     "output_type": "execute_result"
    },
    {
     "data": {
      "image/png": "[encoded data removed]",
      "text/plain": [
       "<Figure size 432x288 with 1 Axes>"
      ]
     },
     "metadata": {
      "needs_background": "light"
     },
     "output_type": "display_data"
    }
   ],
   "source": [
    "plt.scatter(df['Цена квартиры'], df['Этажей в доме'])"
   ]
  },
  {
   "cell_type": "code",
   "execution_count": 62,
   "id": "74ec105c",
   "metadata": {},
   "outputs": [
    {
     "data": {
      "text/plain": [
       "<matplotlib.collections.PathCollection at 0x21e77c2d310>"
      ]
     },
     "execution_count": 62,
     "metadata": {},
     "output_type": "execute_result"
    },
    {
     "data": {
      "image/png": "[encoded data removed]",
      "text/plain": [
       "<Figure size 432x288 with 1 Axes>"
      ]
     },
     "metadata": {
      "needs_background": "light"
     },
     "output_type": "display_data"
    }
   ],
   "source": [
    "plt.scatter(df['Цена квартиры'], df['Год сдачи'])"
   ]
  },
  {
   "cell_type": "code",
   "execution_count": 63,
   "id": "3cf3af4d",
   "metadata": {},
   "outputs": [
    {
     "data": {
      "text/plain": [
       "<matplotlib.collections.PathCollection at 0x21e776e4e20>"
      ]
     },
     "execution_count": 63,
     "metadata": {},
     "output_type": "execute_result"
    },
    {
     "data": {
      "image/png": "[encoded data removed]",
      "text/plain": [
       "<Figure size 432x288 with 1 Axes>"
      ]
     },
     "metadata": {
      "needs_background": "light"
     },
     "output_type": "display_data"
    }
   ],
   "source": [
    "plt.scatter(df['Цена квартиры'], df['Высота потолков'])"
   ]
  },
  {
   "cell_type": "code",
   "execution_count": 66,
   "id": "33f92062",
   "metadata": {},
   "outputs": [],
   "source": [
    "# Создаётся ощущение, что стоит попытаться избавиться от выбросов и провести визуализацию ещё раз. На данный момент\n",
    "# Видна связь лишь между ценой квартиры и общей площадью."
   ]
  },
  {
   "cell_type": "code",
   "execution_count": null,
   "id": "8ee3d80d",
   "metadata": {},
   "outputs": [],
   "source": [
    "# Далее в проекте я планирую построить модель регрессии, которая сможет предсказывать стоимость квартиры по прочим параметрам."
   ]
  }
 ],
 "metadata": {
  "kernelspec": {
   "display_name": "Python 3 (ipykernel)",
   "language": "python",
   "name": "python3"
  },
  "language_info": {
   "codemirror_mode": {
    "name": "ipython",
    "version": 3
   },
   "file_extension": ".py",
   "mimetype": "text/x-python",
   "name": "python",
   "nbconvert_exporter": "python",
   "pygments_lexer": "ipython3",
   "version": "3.9.7"
  }
 },
 "nbformat": 4,
 "nbformat_minor": 5
}
