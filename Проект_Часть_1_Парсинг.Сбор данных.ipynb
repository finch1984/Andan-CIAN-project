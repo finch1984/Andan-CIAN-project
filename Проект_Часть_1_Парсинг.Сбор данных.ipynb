{
 "cells": [
  {
   "cell_type": "markdown",
   "id": "0984833b",
   "metadata": {},
   "source": [
    "# Сбор данных"
   ]
  },
  {
   "cell_type": "code",
   "execution_count": 1,
   "id": "e3b50972",
   "metadata": {},
   "outputs": [],
   "source": [
    "import requests\n",
    "from bs4 import BeautifulSoup\n",
    "from fake_useragent import UserAgent\n",
    "from urllib.parse import urlencode\n",
    "import pandas as pd\n",
    "import numpy as np\n",
    "import time\n",
    "from tqdm.notebook import tqdm\n",
    "from collections import defaultdict as dd\n",
    "import re"
   ]
  },
  {
   "cell_type": "code",
   "execution_count": 68,
   "id": "698a5c20",
   "metadata": {},
   "outputs": [],
   "source": [
    "# мой proxy scrapper\n",
    "\n",
    "API_KEY = '*************************'\n",
    "def get_scrape(url):\n",
    "    payload = {'api_key': API_KEY, 'url': url}\n",
    "    proxy_url = 'https://proxy.scrapeops.io/v1/?' + urlencode(payload)\n",
    "    return proxy_url"
   ]
  },
  {
   "cell_type": "markdown",
   "id": "2b509a67",
   "metadata": {},
   "source": [
    "#### Буду искать квартиры в новостойках, в пределах Старой Москвы, любое количество комнат, до метро: \"пешком не более 45 минут\", это необходимо, так как для одной и той же квартиры может показываться расстояние до метро как пешком, так и на машине, так и на общественном транспорте, а вычленять всё это очень неудобно при парсинге. Тем более в большинстве случаев людей интересует всё-таки именно то, как быстро можно добраться до метрополитена на своих двоих. Также установим минимальный лимит на потолки - 2.5 метров, чтобы исключить вероятность того, что на карточке с квартирой указания на высоту потолков будет отсутствовать. Будем искать квартиры со всеми видами отделок."
   ]
  },
  {
   "cell_type": "markdown",
   "id": "29ab92d5",
   "metadata": {},
   "source": [
    "## Проход по страницам объектов"
   ]
  },
  {
   "cell_type": "code",
   "execution_count": 12,
   "id": "9ab42cb1",
   "metadata": {},
   "outputs": [],
   "source": [
    "url = 'https://www.cian.ru/sale/flat/284003619/'\n",
    "\n",
    "response_object = requests.get(get_scrape(url))\n",
    "tree_object = BeautifulSoup(response_object.content, 'html.parser')"
   ]
  },
  {
   "cell_type": "code",
   "execution_count": 265,
   "id": "eaac9c98",
   "metadata": {},
   "outputs": [
    {
     "data": {
      "text/plain": [
       "33471000"
      ]
     },
     "execution_count": 265,
     "metadata": {},
     "output_type": "execute_result"
    }
   ],
   "source": [
    "# достаём цену\n",
    "\n",
    "price = tree_object.find('div', class_='a10a3f92e9--amount--ON6i1')\n",
    "span = price.find('span', class_='a10a3f92e9--color_black_100--kPHhJ')\n",
    "price = int(span.text.replace('\\xa0', '').replace('₽', ''))\n",
    "price"
   ]
  },
  {
   "cell_type": "code",
   "execution_count": 2,
   "id": "a8360321",
   "metadata": {},
   "outputs": [
    {
     "ename": "NameError",
     "evalue": "name 'tree_object' is not defined",
     "output_type": "error",
     "traceback": [
      "\u001b[1;31m---------------------------------------------------------------------------\u001b[0m",
      "\u001b[1;31mNameError\u001b[0m                                 Traceback (most recent call last)",
      "\u001b[1;32mC:\\Users\\2BA0~1\\AppData\\Local\\Temp/ipykernel_20388/1485424332.py\u001b[0m in \u001b[0;36m<module>\u001b[1;34m\u001b[0m\n\u001b[0;32m      4\u001b[0m \u001b[1;31m# Работающий результат получил не сразу - надо использовать select, а не find_all (скрины будут в отдельной папке)\u001b[0m\u001b[1;33m\u001b[0m\u001b[1;33m\u001b[0m\u001b[0m\n\u001b[0;32m      5\u001b[0m \u001b[1;33m\u001b[0m\u001b[0m\n\u001b[1;32m----> 6\u001b[1;33m \u001b[0mtags\u001b[0m \u001b[1;33m=\u001b[0m \u001b[0mtree_object\u001b[0m\u001b[1;33m.\u001b[0m\u001b[0mselect\u001b[0m\u001b[1;33m(\u001b[0m\u001b[1;34m'div.a10a3f92e9--item--Jp5Qv'\u001b[0m\u001b[1;33m)\u001b[0m\u001b[1;33m\u001b[0m\u001b[1;33m\u001b[0m\u001b[0m\n\u001b[0m\u001b[0;32m      7\u001b[0m \u001b[0mfeatures\u001b[0m \u001b[1;33m=\u001b[0m \u001b[1;33m[\u001b[0m\u001b[1;33m]\u001b[0m\u001b[1;33m\u001b[0m\u001b[1;33m\u001b[0m\u001b[0m\n\u001b[0;32m      8\u001b[0m \u001b[1;32mfor\u001b[0m \u001b[0mtag\u001b[0m \u001b[1;32min\u001b[0m \u001b[0mtags\u001b[0m\u001b[1;33m:\u001b[0m\u001b[1;33m\u001b[0m\u001b[1;33m\u001b[0m\u001b[0m\n",
      "\u001b[1;31mNameError\u001b[0m: name 'tree_object' is not defined"
     ]
    }
   ],
   "source": [
    "# достанем часть информации о квартире, которая хранится в одинаковых тэгах - сначала мне было не очень было понятно, как это\n",
    "# сделать, так как мне постоянно выводило данные для площади. Я обратился к ChatGPT с подводкой:\n",
    "# \"в коде HTML-страницы есть два одинаковых тега с одинаковыми классами, но содержащий разный text как мне в таком случае вытащить эти тексты?\"\n",
    "# Работающий результат получил не сразу - надо использовать select, а не find_all (скрины будут в отдельной папке)\n",
    "\n",
    "tags = tree_object.select('div.a10a3f92e9--item--Jp5Qv')\n",
    "features = []\n",
    "for tag in tags:\n",
    "    string = tag.text\n",
    "    features.append(string)\n",
    "if len(features) == 7:\n",
    "    features.pop(2)\n",
    "\n",
    "    \n",
    "# находим общую площадь квартиры\n",
    "square = features[0]\n",
    "square = square.replace('\\xa0', '').replace('м²', '').replace(',','.')\n",
    "square = re.search(r'([\\d.]+)', square)\n",
    "square = square.group(1) if square else ''\n",
    "print(square)\n",
    "\n",
    "#находим жилую площадь квартиры \n",
    "if len(features) == 6:\n",
    "    s = features[1]\n",
    "    area_start = s.find('жилая площадь') + len('жилая площадь')\n",
    "    area_end = s.find('\\xa0', area_start)\n",
    "    area = s[area_start:area_end].replace(',', '.').strip('ь')\n",
    "    print(area)\n",
    "\n",
    "#находим этаж, на котором располагается квартира\n",
    "if len(features) == 6:\n",
    "    floor = features[2]\n",
    "    floor = re.search(r'([\\d.]+)', floor)\n",
    "    floor = floor.group(1) if floor else ''\n",
    "    print(floor)\n",
    "else:\n",
    "    floor = features[1]\n",
    "    floor = re.search(r'([\\d.]+)', floor)\n",
    "    floor = floor.group(1) if floor else ''\n",
    "    print(floor)\n",
    "\n",
    "#находим этажность здания\n",
    "if len(features) == 6:\n",
    "    height = features[2]\n",
    "    height = re.search(r'из (\\d+)', height)\n",
    "    height = height.group(1) if height else ''\n",
    "    print(height)\n",
    "else:\n",
    "    height = features[1]\n",
    "    height = re.search(r'из (\\d+)', height)\n",
    "    height = height.group(1) if height else ''\n",
    "    print(height)\n",
    "\n",
    "#находим год сдачи\n",
    "if len(features) == 6:\n",
    "    year = features[3]\n",
    "    year = year[len('Год сдачи'):]\n",
    "    year = int(year)\n",
    "    print(year)\n",
    "else:\n",
    "    year = features[2]\n",
    "    year = year[len('Год сдачи'):]\n",
    "    year = int(year)\n",
    "    print(year)\n",
    "\n",
    "# есть отделка или нет?\n",
    "if len(features) == 6:\n",
    "    finishing = features[5]\n",
    "    finishing = finishing[len('Отделка'):]\n",
    "    print(finishing)\n",
    "else:\n",
    "    finishing = features[4]\n",
    "    finishing = finishing[len('Отделка'):]\n",
    "    print(finishing)"
   ]
  },
  {
   "cell_type": "code",
   "execution_count": 297,
   "id": "8e07e3fc",
   "metadata": {},
   "outputs": [
    {
     "name": "stdout",
     "output_type": "stream",
     "text": [
      "5\n"
     ]
    }
   ],
   "source": [
    "# достанем время пешком до метро в минутах\n",
    "metro = (tree_object.find('span', class_ = 'a10a3f92e9--underground_time--YvrcI')).text\n",
    "metro = int(metro.split()[0])\n",
    "print(metro)"
   ]
  },
  {
   "cell_type": "code",
   "execution_count": 298,
   "id": "f015f3a6",
   "metadata": {},
   "outputs": [
    {
     "name": "stdout",
     "output_type": "stream",
     "text": [
      "3.3\n"
     ]
    }
   ],
   "source": [
    "# достанем высоту потолков\n",
    "list_2 = []\n",
    "tags_2 = tree_object.select('div.a10a3f92e9--group--K5ZqN')\n",
    "for tag_2 in tags_2:\n",
    "    string = tag_2.text\n",
    "    list_2.append(string)\n",
    "for item in list_2:\n",
    "    if 'Высота потолков' in item:\n",
    "        match = re.search(r'Высота потолков([\\d.,]+)', item)\n",
    "        if match:\n",
    "            ceiling = match.group(1)\n",
    "ceiling = ceiling.replace(',', '.')\n",
    "print(ceiling)"
   ]
  },
  {
   "cell_type": "code",
   "execution_count": 24,
   "id": "05771e25",
   "metadata": {},
   "outputs": [
    {
     "name": "stdout",
     "output_type": "stream",
     "text": [
      "Левобережный\n"
     ]
    }
   ],
   "source": [
    "# достанем район, в котором расположена квартира\n",
    "list_3 = []\n",
    "tags_3 = tree_object.select('div.a10a3f92e9--address-line--GRDTb')\n",
    "for tag_3 in tags_3:\n",
    "    string = tag_3.text\n",
    "    list_3.append(string)\n",
    "    \n",
    "pattern = r'р-н\\s([^,]+)'\n",
    "matches = re.findall(pattern, string)\n",
    "if matches:\n",
    "    district = matches[0]\n",
    "    print(district)  # Вывод: Левобережный"
   ]
  },
  {
   "cell_type": "code",
   "execution_count": 30,
   "id": "d4f75c45",
   "metadata": {},
   "outputs": [],
   "source": [
    "# собираем всё в кучу\n",
    "\n",
    "def parse_one_flat(tree_object):\n",
    "    \n",
    "    price = tree_object.find('div', class_='a10a3f92e9--amount--ON6i1')\n",
    "    span = price.find('span', class_='a10a3f92e9--color_black_100--kPHhJ')\n",
    "    price = int(span.text.replace('\\xa0', '').replace('₽', ''))\n",
    "    \n",
    "    list_3 = []\n",
    "    tags_3 = tree_object.select('div.a10a3f92e9--address-line--GRDTb')\n",
    "    for tag_3 in tags_3:\n",
    "        string = tag_3.text\n",
    "        list_3.append(string)\n",
    "    pattern = r'р-н\\s([^,]+)'\n",
    "    matches = re.findall(pattern, string)\n",
    "    if matches:\n",
    "        district = matches[0]\n",
    "    \n",
    "    tags = tree_object.select('div.a10a3f92e9--item--Jp5Qv')\n",
    "    features = []\n",
    "    for tag in tags:\n",
    "        string = tag.text\n",
    "        features.append(string)\n",
    "    if len(features) == 7:\n",
    "        features.pop(2)\n",
    "        \n",
    "    square = features[0]\n",
    "    square = square.replace('\\xa0', '').replace('м²', '').replace(',','.')\n",
    "    square = re.search(r'([\\d.]+)', square)\n",
    "    square = square.group(1) if square else ''\n",
    "    \n",
    "    if len(features) == 6:\n",
    "        living_square = features[1]\n",
    "        area_start = living_square.find('жилая площадь') + len('жилая площадь')\n",
    "        area_end = living_square.find('\\xa0', area_start)\n",
    "        living_square = living_square[area_start:area_end].replace(',', '.').strip('ь')\n",
    "    else:\n",
    "        living_square = 'empty'\n",
    "\n",
    "    if len(features) == 6:\n",
    "        floor = features[2]\n",
    "        floor = re.search(r'([\\d.]+)', floor)\n",
    "        floor = floor.group(1) if floor else ''\n",
    "    else:\n",
    "        floor = features[1]\n",
    "        floor = re.search(r'([\\d.]+)', floor)\n",
    "        floor = floor.group(1) if floor else ''\n",
    "\n",
    "    if len(features) == 6:\n",
    "        height = features[2]\n",
    "        height = re.search(r'из (\\d+)', height)\n",
    "        height = height.group(1) if height else ''\n",
    "    else:\n",
    "        height = features[1]\n",
    "        height = re.search(r'из (\\d+)', height)\n",
    "        height = height.group(1) if height else ''\n",
    "\n",
    "    if len(features) == 6:\n",
    "        year = features[3]\n",
    "        year = year[len('Год сдачи'):]\n",
    "        year = int(year)\n",
    "    else:\n",
    "        year = features[2]\n",
    "        year = year[len('Год сдачи'):]\n",
    "        year = int(year)\n",
    "\n",
    "    if len(features) == 6:\n",
    "        finishing = features[5]\n",
    "        finishing = finishing[len('Отделка'):]\n",
    "    else:\n",
    "        finishing = features[4]\n",
    "        finishing = finishing[len('Отделка'):]\n",
    "        \n",
    "    metro = (tree_object.find('span', class_ = 'a10a3f92e9--underground_time--YvrcI')).text\n",
    "    metro = int(metro.split()[0])\n",
    "    \n",
    "    list_2 = []\n",
    "    tags_2 = tree_object.select('div.a10a3f92e9--group--K5ZqN')\n",
    "    for tag_2 in tags_2:\n",
    "        string = tag_2.text\n",
    "        list_2.append(string)\n",
    "    for item in list_2:\n",
    "        if 'Высота потолков' in item:\n",
    "            match = re.search(r'Высота потолков([\\d.,]+)', item)\n",
    "        if match:\n",
    "            ceiling = match.group(1)\n",
    "    ceiling = ceiling.replace(',', '.')\n",
    "    \n",
    "    info = {}\n",
    "\n",
    "    info['Цена квартиры'] = price\n",
    "    info['Район'] = district\n",
    "    info['Время до метро (пешком)'] = metro\n",
    "    info['Общая площадь'] = square\n",
    "    info['Жилая площадь'] = living_square\n",
    "    info['Этаж'] = floor\n",
    "    info['Этажей в доме'] = height\n",
    "    info['Год сдачи'] = year\n",
    "    info['Отделка'] = finishing\n",
    "    info['Высота потолков'] = ceiling\n",
    "    \n",
    "    return info"
   ]
  },
  {
   "cell_type": "code",
   "execution_count": 33,
   "id": "d09bd1d7",
   "metadata": {},
   "outputs": [
    {
     "name": "stdout",
     "output_type": "stream",
     "text": [
      "<Response [200]>\n"
     ]
    }
   ],
   "source": [
    "#соберём ссылки с одной страницы\n",
    "\n",
    "url_page = 'https://www.cian.ru/cat.php?deal_type=sale&decorations_list%5B0%5D=fine&decorations_list%5B1%5D=fineWithFurniture&decorations_list%5B2%5D=preFine&decorations_list%5B3%5D=without&engine_version=2&foot_min=45&min_ceiling_height=2.5&minlarea=1&object_type%5B0%5D=2&offer_type=flat&only_foot=2&p=i&region=1&room1=1&room2=1&room3=1&room4=1&room5=1&room6=1'\n",
    "response = requests.get(get_scrape(url_page))\n",
    "tree = BeautifulSoup(response.content, 'html.parser')\n",
    "\n",
    "d = dd(lambda:{})\n",
    "href_list = []\n",
    "flats_on_page = tree.find_all('a', class_='_93444fe79c--link--eoxce')\n",
    "for flat in flats_on_page:\n",
    "    href = flat.get('href')\n",
    "    d[href] = {'href': href}"
   ]
  },
  {
   "cell_type": "code",
   "execution_count": 52,
   "id": "45df1f59",
   "metadata": {},
   "outputs": [],
   "source": [
    "d = dd(lambda:{})\n",
    "for page in range(1,40):\n",
    "    url_page = f'https://www.cian.ru/cat.php?deal_type=sale&decorations_list%5B0%5D=fine&decorations_list%5B1%5D=fineWithFurniture&decorations_list%5B2%5D=preFine&decorations_list%5B3%5D=without&engine_version=2&foot_min=45&min_ceiling_height=2.5&minlarea=1&object_type%5B0%5D=2&offer_type=flat&only_foot=2&p={page}&region=1&room1=1&room2=1&room3=1&room4=1&room5=1&room6=1'\n",
    "    response = requests.get(get_scrape(url_page))\n",
    "    tree = BeautifulSoup(response.content, 'html.parser')\n",
    "    flats_on_page = tree.find_all('a', class_='_93444fe79c--link--eoxce')\n",
    "    for flat in flats_on_page:\n",
    "        href = flat.get('href')\n",
    "        d[href] = {'href': href}"
   ]
  },
  {
   "cell_type": "code",
   "execution_count": 58,
   "id": "72c91881",
   "metadata": {},
   "outputs": [
    {
     "data": {
      "application/vnd.jupyter.widget-view+json": {
       "model_id": "2f855a282ead424d81bc677a28be769b",
       "version_major": 2,
       "version_minor": 0
      },
      "text/plain": [
       "  0%|          | 0/1064 [00:00<?, ?it/s]"
      ]
     },
     "metadata": {},
     "output_type": "display_data"
    },
    {
     "name": "stdout",
     "output_type": "stream",
     "text": [
      "Ошибка HTTP 500 при запросе https://www.cian.ru/sale/flat/271462103/. Повторный запрос.\n",
      "Произошла ошибка при запросе https://www.cian.ru/sale/flat/273051726/: local variable 'district' referenced before assignment\n",
      "Произошла ошибка при запросе https://www.cian.ru/sale/flat/273053307/: local variable 'district' referenced before assignment\n",
      "Произошла ошибка при запросе https://www.cian.ru/sale/flat/278068554/: local variable 'district' referenced before assignment\n",
      "Произошла ошибка при запросе https://www.cian.ru/sale/flat/273049981/: local variable 'district' referenced before assignment\n",
      "Произошла ошибка при запросе https://www.cian.ru/sale/flat/279343463/: local variable 'district' referenced before assignment\n",
      "Произошла ошибка при запросе https://www.cian.ru/sale/flat/282405966/: local variable 'district' referenced before assignment\n",
      "Произошла ошибка при запросе https://www.cian.ru/sale/flat/276147600/: 'NoneType' object has no attribute 'find'\n",
      "Произошла ошибка при запросе https://www.cian.ru/sale/flat/278000104/: local variable 'district' referenced before assignment\n",
      "Произошла ошибка при запросе https://www.cian.ru/sale/flat/273052183/: local variable 'district' referenced before assignment\n",
      "Произошла ошибка при запросе https://www.cian.ru/sale/flat/273049964/: local variable 'district' referenced before assignment\n",
      "Произошла ошибка при запросе https://www.cian.ru/sale/flat/273050431/: local variable 'district' referenced before assignment\n",
      "Произошла ошибка при запросе https://www.cian.ru/sale/flat/277903387/: local variable 'district' referenced before assignment\n",
      "Произошла ошибка при запросе https://www.cian.ru/sale/flat/285108893/: local variable 'district' referenced before assignment\n",
      "Произошла ошибка при запросе https://www.cian.ru/sale/flat/282394921/: local variable 'district' referenced before assignment\n",
      "Произошла ошибка при запросе https://www.cian.ru/sale/flat/283697988/: 'NoneType' object has no attribute 'find'\n",
      "Произошла ошибка при запросе https://www.cian.ru/sale/flat/279103179/: local variable 'district' referenced before assignment\n",
      "Произошла ошибка при запросе https://www.cian.ru/sale/flat/273050329/: local variable 'district' referenced before assignment\n",
      "Произошла ошибка при запросе https://www.cian.ru/sale/flat/273050917/: local variable 'district' referenced before assignment\n",
      "Произошла ошибка при запросе https://www.cian.ru/sale/flat/273051751/: local variable 'district' referenced before assignment\n",
      "Произошла ошибка при запросе https://www.cian.ru/sale/flat/273050168/: local variable 'district' referenced before assignment\n",
      "Произошла ошибка при запросе https://www.cian.ru/sale/flat/277205272/: local variable 'district' referenced before assignment\n",
      "Произошла ошибка при запросе https://www.cian.ru/sale/flat/286729802/: local variable 'district' referenced before assignment\n",
      "Произошла ошибка при запросе https://www.cian.ru/sale/flat/277903863/: local variable 'district' referenced before assignment\n",
      "Произошла ошибка при запросе https://www.cian.ru/sale/flat/279260508/: 'NoneType' object has no attribute 'find'\n",
      "Произошла ошибка при запросе https://www.cian.ru/sale/flat/285812545/: 'NoneType' object has no attribute 'find'\n",
      "Произошла ошибка при запросе https://www.cian.ru/sale/flat/286820367/: 'NoneType' object has no attribute 'find'\n",
      "Произошла ошибка при запросе https://www.cian.ru/sale/flat/284094787/: local variable 'district' referenced before assignment\n",
      "Произошла ошибка при запросе https://www.cian.ru/sale/flat/285820976/: local variable 'district' referenced before assignment\n",
      "Произошла ошибка при запросе https://www.cian.ru/sale/flat/285544218/: local variable 'district' referenced before assignment\n",
      "Произошла ошибка при запросе https://www.cian.ru/sale/flat/279343339/: local variable 'district' referenced before assignment\n",
      "Произошла ошибка при запросе https://www.cian.ru/sale/flat/284030228/: local variable 'district' referenced before assignment\n",
      "Произошла ошибка при запросе https://www.cian.ru/sale/flat/285820823/: local variable 'district' referenced before assignment\n",
      "Произошла ошибка при запросе https://www.cian.ru/sale/flat/287010202/: local variable 'district' referenced before assignment\n",
      "Произошла ошибка при запросе https://www.cian.ru/sale/flat/275546408/: local variable 'district' referenced before assignment\n",
      "Произошла ошибка при запросе https://www.cian.ru/sale/flat/281574156/: local variable 'district' referenced before assignment\n",
      "Произошла ошибка при запросе https://www.cian.ru/sale/flat/270817638/: local variable 'district' referenced before assignment\n",
      "Ошибка HTTP 500 при запросе https://www.cian.ru/sale/flat/284059817/. Повторный запрос.\n",
      "Ошибка HTTP 500 при запросе https://www.cian.ru/sale/flat/282239543/. Повторный запрос.\n",
      "Ошибка HTTP 500 при запросе https://www.cian.ru/sale/flat/279592726/. Повторный запрос.\n",
      "Ошибка HTTP 500 при запросе https://www.cian.ru/sale/flat/280317912/. Повторный запрос.\n",
      "Произошла ошибка при запросе https://www.cian.ru/sale/flat/281573998/: local variable 'district' referenced before assignment\n",
      "Произошла ошибка при запросе https://www.cian.ru/sale/flat/282394896/: local variable 'district' referenced before assignment\n",
      "Произошла ошибка при запросе https://www.cian.ru/sale/flat/284669893/: local variable 'district' referenced before assignment\n",
      "Произошла ошибка при запросе https://www.cian.ru/sale/flat/251715732/: 'NoneType' object has no attribute 'find'\n",
      "Произошла ошибка при запросе https://www.cian.ru/sale/flat/286618393/: 'NoneType' object has no attribute 'find'\n",
      "Произошла ошибка при запросе https://www.cian.ru/sale/flat/274850383/: local variable 'district' referenced before assignment\n",
      "Произошла ошибка при запросе https://www.cian.ru/sale/flat/277131291/: local variable 'district' referenced before assignment\n",
      "Произошла ошибка при запросе https://www.cian.ru/sale/flat/280889096/: local variable 'district' referenced before assignment\n",
      "Произошла ошибка при запросе https://www.cian.ru/sale/flat/287115386/: local variable 'district' referenced before assignment\n",
      "Произошла ошибка при запросе https://www.cian.ru/sale/flat/286153780/: local variable 'district' referenced before assignment\n",
      "Произошла ошибка при запросе https://www.cian.ru/sale/flat/282439486/: local variable 'district' referenced before assignment\n",
      "Произошла ошибка при запросе https://www.cian.ru/sale/flat/277902567/: local variable 'district' referenced before assignment\n",
      "Произошла ошибка при запросе https://www.cian.ru/sale/flat/270788685/: local variable 'district' referenced before assignment\n",
      "Произошла ошибка при запросе https://www.cian.ru/sale/flat/275545901/: local variable 'district' referenced before assignment\n",
      "Произошла ошибка при запросе https://www.cian.ru/sale/flat/283365571/: local variable 'district' referenced before assignment\n",
      "Произошла ошибка при запросе https://www.cian.ru/sale/flat/285444450/: local variable 'district' referenced before assignment\n",
      "Произошла ошибка при запросе https://www.cian.ru/sale/flat/285444612/: local variable 'district' referenced before assignment\n",
      "Произошла ошибка при запросе https://www.cian.ru/sale/flat/286092143/: local variable 'district' referenced before assignment\n",
      "Произошла ошибка при запросе https://www.cian.ru/sale/flat/273050254/: local variable 'district' referenced before assignment\n",
      "Произошла ошибка при запросе https://www.cian.ru/sale/flat/283385785/: 'NoneType' object has no attribute 'find'\n",
      "Произошла ошибка при запросе https://www.cian.ru/sale/flat/287137127/: 'NoneType' object has no attribute 'find'\n",
      "Произошла ошибка при запросе https://www.cian.ru/sale/flat/284410922/: 'NoneType' object has no attribute 'find'\n",
      "Произошла ошибка при запросе https://www.cian.ru/sale/flat/287137176/: 'NoneType' object has no attribute 'find'\n",
      "Произошла ошибка при запросе https://www.cian.ru/sale/flat/287137147/: 'NoneType' object has no attribute 'find'\n",
      "Произошла ошибка при запросе https://www.cian.ru/sale/flat/287137121/: 'NoneType' object has no attribute 'find'\n",
      "Произошла ошибка при запросе https://www.cian.ru/sale/flat/282657592/: 'NoneType' object has no attribute 'find'\n",
      "Произошла ошибка при запросе https://www.cian.ru/sale/flat/284551292/: 'NoneType' object has no attribute 'find'\n",
      "Произошла ошибка при запросе https://www.cian.ru/sale/flat/284436870/: 'NoneType' object has no attribute 'find'\n",
      "Произошла ошибка при запросе https://www.cian.ru/sale/flat/273233014/: local variable 'district' referenced before assignment\n",
      "Произошла ошибка при запросе https://www.cian.ru/sale/flat/285718012/: 'NoneType' object has no attribute 'find'\n",
      "Произошла ошибка при запросе https://www.cian.ru/sale/flat/277903736/: local variable 'district' referenced before assignment\n",
      "Произошла ошибка при запросе https://www.cian.ru/sale/flat/286621048/: 'NoneType' object has no attribute 'find'\n",
      "Произошла ошибка при запросе https://www.cian.ru/sale/flat/286276834/: 'NoneType' object has no attribute 'find'\n",
      "Произошла ошибка при запросе https://www.cian.ru/sale/flat/283209099/: 'NoneType' object has no attribute 'find'\n",
      "Произошла ошибка при запросе https://www.cian.ru/sale/flat/273051368/: local variable 'district' referenced before assignment\n",
      "Произошла ошибка при запросе https://www.cian.ru/sale/flat/280774590/: local variable 'district' referenced before assignment\n",
      "Произошла ошибка при запросе https://www.cian.ru/sale/flat/286932483/: 'NoneType' object has no attribute 'find'\n",
      "Произошла ошибка при запросе https://www.cian.ru/sale/flat/285562172/: 'NoneType' object has no attribute 'find'\n",
      "Произошла ошибка при запросе https://www.cian.ru/sale/flat/285795620/: 'NoneType' object has no attribute 'find'\n",
      "Произошла ошибка при запросе https://www.cian.ru/sale/flat/279147789/: 'NoneType' object has no attribute 'find'\n",
      "Произошла ошибка при запросе https://www.cian.ru/sale/flat/282780852/: 'NoneType' object has no attribute 'find'\n",
      "Произошла ошибка при запросе https://www.cian.ru/sale/flat/286208667/: 'NoneType' object has no attribute 'find'\n",
      "Произошла ошибка при запросе https://www.cian.ru/sale/flat/286989919/: 'NoneType' object has no attribute 'find'\n",
      "Произошла ошибка при запросе https://www.cian.ru/sale/flat/285379587/: 'NoneType' object has no attribute 'find'\n",
      "Произошла ошибка при запросе https://www.cian.ru/sale/flat/283716533/: 'NoneType' object has no attribute 'find'\n",
      "Произошла ошибка при запросе https://www.cian.ru/sale/flat/286429991/: 'NoneType' object has no attribute 'find'\n",
      "Произошла ошибка при запросе https://www.cian.ru/sale/flat/281239549/: 'NoneType' object has no attribute 'find'\n",
      "Произошла ошибка при запросе https://www.cian.ru/sale/flat/283769346/: 'NoneType' object has no attribute 'find'\n",
      "Произошла ошибка при запросе https://www.cian.ru/sale/flat/287296909/: 'NoneType' object has no attribute 'find'\n",
      "Произошла ошибка при запросе https://www.cian.ru/sale/flat/284500852/: 'NoneType' object has no attribute 'find'\n",
      "Произошла ошибка при запросе https://www.cian.ru/sale/flat/287137112/: 'NoneType' object has no attribute 'find'\n",
      "Произошла ошибка при запросе https://www.cian.ru/sale/flat/287137139/: 'NoneType' object has no attribute 'find'\n",
      "Произошла ошибка при запросе https://www.cian.ru/sale/flat/285823410/: local variable 'district' referenced before assignment\n",
      "Произошла ошибка при запросе https://www.cian.ru/sale/flat/285820839/: local variable 'district' referenced before assignment\n",
      "Произошла ошибка при запросе https://www.cian.ru/sale/flat/286729706/: local variable 'district' referenced before assignment\n",
      "Произошла ошибка при запросе https://www.cian.ru/sale/flat/287254403/: local variable 'district' referenced before assignment\n",
      "Произошла ошибка при запросе https://www.cian.ru/sale/flat/279103174/: local variable 'district' referenced before assignment\n",
      "Произошла ошибка при запросе https://www.cian.ru/sale/flat/286729930/: local variable 'district' referenced before assignment\n",
      "Произошла ошибка при запросе https://www.cian.ru/sale/flat/281815936/: local variable 'district' referenced before assignment\n",
      "Произошла ошибка при запросе https://www.cian.ru/sale/flat/285821162/: local variable 'district' referenced before assignment\n",
      "Произошла ошибка при запросе https://www.cian.ru/sale/flat/279712362/: local variable 'district' referenced before assignment\n",
      "Произошла ошибка при запросе https://www.cian.ru/sale/flat/278180877/: 'NoneType' object has no attribute 'find'\n",
      "Произошла ошибка при запросе https://www.cian.ru/sale/flat/281484220/: local variable 'district' referenced before assignment\n",
      "Произошла ошибка при запросе https://www.cian.ru/sale/flat/286918036/: 'NoneType' object has no attribute 'find'\n",
      "Ошибка HTTP 500 при запросе https://www.cian.ru/sale/flat/282449618/. Повторный запрос.\n",
      "Произошла ошибка при запросе https://www.cian.ru/sale/flat/278068653/: local variable 'district' referenced before assignment\n",
      "Произошла ошибка при запросе https://www.cian.ru/sale/flat/278068522/: local variable 'district' referenced before assignment\n",
      "Произошла ошибка при запросе https://www.cian.ru/sale/flat/284592394/: 'NoneType' object has no attribute 'find'\n",
      "Произошла ошибка при запросе https://www.cian.ru/sale/flat/286729936/: local variable 'district' referenced before assignment\n",
      "Произошла ошибка при запросе https://www.cian.ru/sale/flat/286576182/: local variable 'district' referenced before assignment\n",
      "Произошла ошибка при запросе https://www.cian.ru/sale/flat/283039863/: 'NoneType' object has no attribute 'find'\n",
      "Произошла ошибка при запросе https://www.cian.ru/sale/flat/279103176/: local variable 'district' referenced before assignment\n",
      "Произошла ошибка при запросе https://www.cian.ru/sale/flat/273052784/: local variable 'district' referenced before assignment\n",
      "Произошла ошибка при запросе https://www.cian.ru/sale/flat/273049727/: local variable 'district' referenced before assignment\n",
      "Произошла ошибка при запросе https://www.cian.ru/sale/flat/279103175/: local variable 'district' referenced before assignment\n",
      "Произошла ошибка при запросе https://www.cian.ru/sale/flat/279712451/: local variable 'district' referenced before assignment\n",
      "Произошла ошибка при запросе https://www.cian.ru/sale/flat/282394903/: local variable 'district' referenced before assignment\n",
      "Произошла ошибка при запросе https://www.cian.ru/sale/flat/286992960/: 'NoneType' object has no attribute 'find'\n",
      "Произошла ошибка при запросе https://www.cian.ru/sale/flat/286729616/: local variable 'district' referenced before assignment\n",
      "Произошла ошибка при запросе https://www.cian.ru/sale/flat/273049984/: local variable 'district' referenced before assignment\n",
      "Произошла ошибка при запросе https://www.cian.ru/sale/flat/278068758/: local variable 'district' referenced before assignment\n",
      "Произошла ошибка при запросе https://www.cian.ru/sale/flat/285443994/: local variable 'district' referenced before assignment\n",
      "Произошла ошибка при запросе https://www.cian.ru/sale/flat/285823388/: local variable 'district' referenced before assignment\n",
      "Произошла ошибка при запросе https://www.cian.ru/sale/flat/279838899/: local variable 'district' referenced before assignment\n",
      "Произошла ошибка при запросе https://www.cian.ru/sale/flat/286918053/: 'NoneType' object has no attribute 'find'\n",
      "Произошла ошибка при запросе https://www.cian.ru/sale/flat/286729682/: local variable 'district' referenced before assignment\n",
      "Произошла ошибка при запросе https://www.cian.ru/sale/flat/273052807/: local variable 'district' referenced before assignment\n",
      "Ошибка HTTP 500 при запросе https://www.cian.ru/sale/flat/281573434/. Повторный запрос.\n"
     ]
    },
    {
     "ename": "UnboundLocalError",
     "evalue": "local variable 'district' referenced before assignment",
     "output_type": "error",
     "traceback": [
      "\u001b[1;31m---------------------------------------------------------------------------\u001b[0m",
      "\u001b[1;31mHTTPError\u001b[0m                                 Traceback (most recent call last)",
      "\u001b[1;32mC:\\Users\\2BA0~1\\AppData\\Local\\Temp/ipykernel_6796/3144833385.py\u001b[0m in \u001b[0;36m<module>\u001b[1;34m\u001b[0m\n\u001b[0;32m      3\u001b[0m         \u001b[0mresponse_object\u001b[0m \u001b[1;33m=\u001b[0m \u001b[0mrequests\u001b[0m\u001b[1;33m.\u001b[0m\u001b[0mget\u001b[0m\u001b[1;33m(\u001b[0m\u001b[0mget_scrape\u001b[0m\u001b[1;33m(\u001b[0m\u001b[0mi\u001b[0m\u001b[1;33m)\u001b[0m\u001b[1;33m)\u001b[0m\u001b[1;33m\u001b[0m\u001b[1;33m\u001b[0m\u001b[0m\n\u001b[1;32m----> 4\u001b[1;33m         \u001b[0mresponse_object\u001b[0m\u001b[1;33m.\u001b[0m\u001b[0mraise_for_status\u001b[0m\u001b[1;33m(\u001b[0m\u001b[1;33m)\u001b[0m  \u001b[1;31m# Генерирует исключение, если получен ответ с ошибкой (не 200 OK)\u001b[0m\u001b[1;33m\u001b[0m\u001b[1;33m\u001b[0m\u001b[0m\n\u001b[0m\u001b[0;32m      5\u001b[0m         \u001b[0mtree_object\u001b[0m \u001b[1;33m=\u001b[0m \u001b[0mBeautifulSoup\u001b[0m\u001b[1;33m(\u001b[0m\u001b[0mresponse_object\u001b[0m\u001b[1;33m.\u001b[0m\u001b[0mcontent\u001b[0m\u001b[1;33m,\u001b[0m \u001b[1;34m'html.parser'\u001b[0m\u001b[1;33m)\u001b[0m\u001b[1;33m\u001b[0m\u001b[1;33m\u001b[0m\u001b[0m\n",
      "\u001b[1;32mC:\\ProgramData\\Anaconda3\\lib\\site-packages\\requests\\models.py\u001b[0m in \u001b[0;36mraise_for_status\u001b[1;34m(self)\u001b[0m\n\u001b[0;32m    959\u001b[0m         \u001b[1;32mif\u001b[0m \u001b[0mhttp_error_msg\u001b[0m\u001b[1;33m:\u001b[0m\u001b[1;33m\u001b[0m\u001b[1;33m\u001b[0m\u001b[0m\n\u001b[1;32m--> 960\u001b[1;33m             \u001b[1;32mraise\u001b[0m \u001b[0mHTTPError\u001b[0m\u001b[1;33m(\u001b[0m\u001b[0mhttp_error_msg\u001b[0m\u001b[1;33m,\u001b[0m \u001b[0mresponse\u001b[0m\u001b[1;33m=\u001b[0m\u001b[0mself\u001b[0m\u001b[1;33m)\u001b[0m\u001b[1;33m\u001b[0m\u001b[1;33m\u001b[0m\u001b[0m\n\u001b[0m\u001b[0;32m    961\u001b[0m \u001b[1;33m\u001b[0m\u001b[0m\n",
      "\u001b[1;31mHTTPError\u001b[0m: 500 Server Error: Internal Server Error for url: https://proxy.scrapeops.io/v1/?api_key=b4e663a8-85aa-42ab-8521-4e8ef63babac&url=https%3A%2F%2Fwww.cian.ru%2Fsale%2Fflat%2F281573434%2F",
      "\nDuring handling of the above exception, another exception occurred:\n",
      "\u001b[1;31mUnboundLocalError\u001b[0m                         Traceback (most recent call last)",
      "\u001b[1;32mC:\\Users\\2BA0~1\\AppData\\Local\\Temp/ipykernel_6796/3144833385.py\u001b[0m in \u001b[0;36m<module>\u001b[1;34m\u001b[0m\n\u001b[0;32m     12\u001b[0m         \u001b[0mresponse_object\u001b[0m\u001b[1;33m.\u001b[0m\u001b[0mraise_for_status\u001b[0m\u001b[1;33m(\u001b[0m\u001b[1;33m)\u001b[0m\u001b[1;33m\u001b[0m\u001b[1;33m\u001b[0m\u001b[0m\n\u001b[0;32m     13\u001b[0m         \u001b[0mtree_object\u001b[0m \u001b[1;33m=\u001b[0m \u001b[0mBeautifulSoup\u001b[0m\u001b[1;33m(\u001b[0m\u001b[0mresponse_object\u001b[0m\u001b[1;33m.\u001b[0m\u001b[0mcontent\u001b[0m\u001b[1;33m,\u001b[0m \u001b[1;34m'html.parser'\u001b[0m\u001b[1;33m)\u001b[0m\u001b[1;33m\u001b[0m\u001b[1;33m\u001b[0m\u001b[0m\n\u001b[1;32m---> 14\u001b[1;33m         \u001b[0mresult\u001b[0m \u001b[1;33m=\u001b[0m \u001b[0mparse_one_flat\u001b[0m\u001b[1;33m(\u001b[0m\u001b[0mtree_object\u001b[0m\u001b[1;33m)\u001b[0m\u001b[1;33m\u001b[0m\u001b[1;33m\u001b[0m\u001b[0m\n\u001b[0m\u001b[0;32m     15\u001b[0m         \u001b[0md\u001b[0m\u001b[1;33m[\u001b[0m\u001b[0mi\u001b[0m\u001b[1;33m]\u001b[0m\u001b[1;33m.\u001b[0m\u001b[0mupdate\u001b[0m\u001b[1;33m(\u001b[0m\u001b[0mresult\u001b[0m\u001b[1;33m)\u001b[0m\u001b[1;33m\u001b[0m\u001b[1;33m\u001b[0m\u001b[0m\n\u001b[0;32m     16\u001b[0m     \u001b[1;32mexcept\u001b[0m \u001b[0mException\u001b[0m \u001b[1;32mas\u001b[0m \u001b[0me\u001b[0m\u001b[1;33m:\u001b[0m\u001b[1;33m\u001b[0m\u001b[1;33m\u001b[0m\u001b[0m\n",
      "\u001b[1;32mC:\\Users\\2BA0~1\\AppData\\Local\\Temp/ipykernel_6796/3158081166.py\u001b[0m in \u001b[0;36mparse_one_flat\u001b[1;34m(tree_object)\u001b[0m\n\u001b[0;32m     90\u001b[0m \u001b[1;33m\u001b[0m\u001b[0m\n\u001b[0;32m     91\u001b[0m     \u001b[0minfo\u001b[0m\u001b[1;33m[\u001b[0m\u001b[1;34m'Цена квартиры'\u001b[0m\u001b[1;33m]\u001b[0m \u001b[1;33m=\u001b[0m \u001b[0mprice\u001b[0m\u001b[1;33m\u001b[0m\u001b[1;33m\u001b[0m\u001b[0m\n\u001b[1;32m---> 92\u001b[1;33m     \u001b[0minfo\u001b[0m\u001b[1;33m[\u001b[0m\u001b[1;34m'Район'\u001b[0m\u001b[1;33m]\u001b[0m \u001b[1;33m=\u001b[0m \u001b[0mdistrict\u001b[0m\u001b[1;33m\u001b[0m\u001b[1;33m\u001b[0m\u001b[0m\n\u001b[0m\u001b[0;32m     93\u001b[0m     \u001b[0minfo\u001b[0m\u001b[1;33m[\u001b[0m\u001b[1;34m'Время до метро (пешком)'\u001b[0m\u001b[1;33m]\u001b[0m \u001b[1;33m=\u001b[0m \u001b[0mmetro\u001b[0m\u001b[1;33m\u001b[0m\u001b[1;33m\u001b[0m\u001b[0m\n\u001b[0;32m     94\u001b[0m     \u001b[0minfo\u001b[0m\u001b[1;33m[\u001b[0m\u001b[1;34m'Общая площадь'\u001b[0m\u001b[1;33m]\u001b[0m \u001b[1;33m=\u001b[0m \u001b[0msquare\u001b[0m\u001b[1;33m\u001b[0m\u001b[1;33m\u001b[0m\u001b[0m\n",
      "\u001b[1;31mUnboundLocalError\u001b[0m: local variable 'district' referenced before assignment"
     ]
    }
   ],
   "source": [
    "for i in tqdm(d):\n",
    "    try:\n",
    "        response_object = requests.get(get_scrape(i))\n",
    "        response_object.raise_for_status()  # Генерирует исключение, если получен ответ с ошибкой (не 200 OK)\n",
    "        tree_object = BeautifulSoup(response_object.content, 'html.parser')\n",
    "        result = parse_one_flat(tree_object)\n",
    "        d[i].update(result)\n",
    "    except requests.exceptions.HTTPError:\n",
    "        print(f\"Ошибка HTTP 500 при запросе {i}. Повторный запрос.\")\n",
    "        # Повторный запрос\n",
    "        response_object = requests.get(get_scrape(i))\n",
    "        response_object.raise_for_status()\n",
    "        tree_object = BeautifulSoup(response_object.content, 'html.parser')\n",
    "        result = parse_one_flat(tree_object)\n",
    "        d[i].update(result)\n",
    "    except Exception as e:\n",
    "        print(f\"Произошла ошибка при запросе {i}: {str(e)}\")\n"
   ]
  },
  {
   "cell_type": "code",
   "execution_count": 61,
   "id": "9dca2728",
   "metadata": {},
   "outputs": [],
   "source": [
    "df = pd.DataFrame(d).T\n",
    "df.to_excel('project.xlsx', index=False)"
   ]
  },
  {
   "cell_type": "code",
   "execution_count": 67,
   "id": "bf10ae9e",
   "metadata": {},
   "outputs": [
    {
     "data": {
      "text/plain": [
       "738"
      ]
     },
     "execution_count": 67,
     "metadata": {},
     "output_type": "execute_result"
    }
   ],
   "source": [
    "df['Цена квартиры'].nunique()"
   ]
  },
  {
   "cell_type": "code",
   "execution_count": 84,
   "id": "067b907c",
   "metadata": {},
   "outputs": [],
   "source": [
    "# Добъём до 1000 объектов\n",
    "d2 = dd(lambda:{})\n",
    "for page in range(40,52):\n",
    "    url_page = f'https://www.cian.ru/cat.php?deal_type=sale&decorations_list%5B0%5D=fine&decorations_list%5B1%5D=fineWithFurniture&decorations_list%5B2%5D=preFine&decorations_list%5B3%5D=without&engine_version=2&foot_min=45&min_ceiling_height=2.5&minlarea=1&object_type%5B0%5D=2&offer_type=flat&only_foot=2&p={page}&region=1&room1=1&room2=1&room3=1&room4=1&room5=1&room6=1'\n",
    "    response = requests.get(get_scrape(url_page))\n",
    "    tree = BeautifulSoup(response.content, 'html.parser')\n",
    "    flats_on_page = tree.find_all('a', class_='_93444fe79c--link--eoxce')\n",
    "    for flat in flats_on_page:\n",
    "        href = flat.get('href')\n",
    "        d2[href] = {'href': href}"
   ]
  },
  {
   "cell_type": "code",
   "execution_count": 85,
   "id": "cc6625dc",
   "metadata": {},
   "outputs": [
    {
     "data": {
      "application/vnd.jupyter.widget-view+json": {
       "model_id": "5330841b22f74d6a9c2f41823aaad0ac",
       "version_major": 2,
       "version_minor": 0
      },
      "text/plain": [
       "  0%|          | 0/303 [00:00<?, ?it/s]"
      ]
     },
     "metadata": {},
     "output_type": "display_data"
    },
    {
     "name": "stdout",
     "output_type": "stream",
     "text": [
      "Произошла ошибка при запросе https://www.cian.ru/sale/flat/282917838/: 'NoneType' object has no attribute 'find'\n",
      "Произошла ошибка при запросе https://www.cian.ru/sale/flat/268961290/: 'NoneType' object has no attribute 'find'\n",
      "Произошла ошибка при запросе https://www.cian.ru/sale/flat/277811300/: local variable 'district' referenced before assignment\n",
      "Произошла ошибка при запросе https://www.cian.ru/sale/flat/277811262/: local variable 'district' referenced before assignment\n",
      "Произошла ошибка при запросе https://www.cian.ru/sale/flat/285027301/: 'NoneType' object has no attribute 'find'\n",
      "Произошла ошибка при запросе https://www.cian.ru/sale/flat/274850345/: local variable 'district' referenced before assignment\n",
      "Произошла ошибка при запросе https://www.cian.ru/sale/flat/274850349/: local variable 'district' referenced before assignment\n",
      "Произошла ошибка при запросе https://www.cian.ru/sale/flat/277903588/: local variable 'district' referenced before assignment\n",
      "Произошла ошибка при запросе https://www.cian.ru/sale/flat/276931118/: local variable 'district' referenced before assignment\n",
      "Произошла ошибка при запросе https://www.cian.ru/sale/flat/277903764/: local variable 'district' referenced before assignment\n",
      "Произошла ошибка при запросе https://www.cian.ru/sale/flat/277903767/: local variable 'district' referenced before assignment\n",
      "Произошла ошибка при запросе https://www.cian.ru/sale/flat/277903512/: local variable 'district' referenced before assignment\n",
      "Произошла ошибка при запросе https://www.cian.ru/sale/flat/277825666/: local variable 'district' referenced before assignment\n",
      "Произошла ошибка при запросе https://www.cian.ru/sale/flat/273050990/: local variable 'district' referenced before assignment\n",
      "Произошла ошибка при запросе https://www.cian.ru/sale/flat/276931115/: local variable 'district' referenced before assignment\n",
      "Произошла ошибка при запросе https://www.cian.ru/sale/flat/273050991/: local variable 'district' referenced before assignment\n",
      "Произошла ошибка при запросе https://www.cian.ru/sale/flat/273050984/: local variable 'district' referenced before assignment\n",
      "Произошла ошибка при запросе https://www.cian.ru/sale/flat/274205665/: invalid literal for int() with base 10: 'откроется'\n",
      "Произошла ошибка при запросе https://www.cian.ru/sale/flat/286768835/: 'NoneType' object has no attribute 'find'\n",
      "Произошла ошибка при запросе https://www.cian.ru/sale/flat/274322080/: local variable 'district' referenced before assignment\n",
      "Произошла ошибка при запросе https://www.cian.ru/sale/flat/273050384/: local variable 'district' referenced before assignment\n",
      "Произошла ошибка при запросе https://www.cian.ru/sale/flat/273050366/: local variable 'district' referenced before assignment\n",
      "Произошла ошибка при запросе https://www.cian.ru/sale/flat/273050319/: local variable 'district' referenced before assignment\n",
      "Произошла ошибка при запросе https://www.cian.ru/sale/flat/274322077/: local variable 'district' referenced before assignment\n",
      "Произошла ошибка при запросе https://www.cian.ru/sale/flat/273050926/: local variable 'district' referenced before assignment\n",
      "Произошла ошибка при запросе https://www.cian.ru/sale/flat/275546559/: 'NoneType' object has no attribute 'find'\n",
      "Произошла ошибка при запросе https://www.cian.ru/sale/flat/277902671/: local variable 'district' referenced before assignment\n",
      "Произошла ошибка при запросе https://www.cian.ru/sale/flat/275666684/: local variable 'district' referenced before assignment\n",
      "Произошла ошибка при запросе https://www.cian.ru/sale/flat/275546444/: local variable 'district' referenced before assignment\n",
      "Произошла ошибка при запросе https://www.cian.ru/sale/flat/273051066/: local variable 'district' referenced before assignment\n",
      "Произошла ошибка при запросе https://www.cian.ru/sale/flat/277903344/: local variable 'district' referenced before assignment\n",
      "Произошла ошибка при запросе https://www.cian.ru/sale/flat/273050890/: local variable 'district' referenced before assignment\n",
      "Произошла ошибка при запросе https://www.cian.ru/sale/flat/273050953/: local variable 'district' referenced before assignment\n",
      "Произошла ошибка при запросе https://www.cian.ru/sale/flat/273050898/: local variable 'district' referenced before assignment\n",
      "Произошла ошибка при запросе https://www.cian.ru/sale/flat/276931105/: local variable 'district' referenced before assignment\n",
      "Произошла ошибка при запросе https://www.cian.ru/sale/flat/275546466/: local variable 'district' referenced before assignment\n",
      "Произошла ошибка при запросе https://www.cian.ru/sale/flat/273050790/: local variable 'district' referenced before assignment\n",
      "Произошла ошибка при запросе https://www.cian.ru/sale/flat/273050781/: local variable 'district' referenced before assignment\n",
      "Произошла ошибка при запросе https://www.cian.ru/sale/flat/273051089/: local variable 'district' referenced before assignment\n",
      "Произошла ошибка при запросе https://www.cian.ru/sale/flat/273053381/: local variable 'district' referenced before assignment\n",
      "Произошла ошибка при запросе https://www.cian.ru/sale/flat/277323137/: local variable 'district' referenced before assignment\n",
      "Произошла ошибка при запросе https://www.cian.ru/sale/flat/273050777/: local variable 'district' referenced before assignment\n",
      "Произошла ошибка при запросе https://www.cian.ru/sale/flat/273051521/: local variable 'district' referenced before assignment\n",
      "Произошла ошибка при запросе https://www.cian.ru/sale/flat/270788678/: local variable 'district' referenced before assignment\n",
      "Произошла ошибка при запросе https://www.cian.ru/sale/flat/273003029/: 'NoneType' object has no attribute 'find'\n",
      "Произошла ошибка при запросе https://www.cian.ru/sale/flat/279586508/: 'NoneType' object has no attribute 'find'\n",
      "Произошла ошибка при запросе https://www.cian.ru/sale/flat/275336675/: local variable 'district' referenced before assignment\n",
      "Произошла ошибка при запросе https://www.cian.ru/sale/flat/275545771/: local variable 'district' referenced before assignment\n",
      "Произошла ошибка при запросе https://www.cian.ru/sale/flat/273050779/: local variable 'district' referenced before assignment\n",
      "Произошла ошибка при запросе https://www.cian.ru/sale/flat/273389327/: local variable 'district' referenced before assignment\n",
      "Произошла ошибка при запросе https://www.cian.ru/sale/flat/273053362/: local variable 'district' referenced before assignment\n",
      "Произошла ошибка при запросе https://www.cian.ru/sale/flat/273053424/: local variable 'district' referenced before assignment\n",
      "Произошла ошибка при запросе https://www.cian.ru/sale/flat/273053582/: local variable 'district' referenced before assignment\n",
      "Произошла ошибка при запросе https://www.cian.ru/sale/flat/273051951/: local variable 'district' referenced before assignment\n",
      "Произошла ошибка при запросе https://www.cian.ru/sale/flat/273051686/: local variable 'district' referenced before assignment\n",
      "Произошла ошибка при запросе https://www.cian.ru/sale/flat/273051533/: local variable 'district' referenced before assignment\n",
      "Произошла ошибка при запросе https://www.cian.ru/sale/flat/280209578/: local variable 'district' referenced before assignment\n",
      "Произошла ошибка при запросе https://www.cian.ru/sale/flat/275545802/: local variable 'district' referenced before assignment\n",
      "Произошла ошибка при запросе https://www.cian.ru/sale/flat/270788144/: local variable 'district' referenced before assignment\n",
      "Произошла ошибка при запросе https://www.cian.ru/sale/flat/276511265/: local variable 'district' referenced before assignment\n",
      "Произошла ошибка при запросе https://www.cian.ru/sale/flat/273052770/: local variable 'district' referenced before assignment\n"
     ]
    }
   ],
   "source": [
    "for i in tqdm(d2):\n",
    "    try:\n",
    "        response_object = requests.get(get_scrape(i))\n",
    "        response_object.raise_for_status()  # Генерирует исключение, если получен ответ с ошибкой (не 200 OK)\n",
    "        tree_object = BeautifulSoup(response_object.content, 'html.parser')\n",
    "        result = parse_one_flat(tree_object)\n",
    "        d[i].update(result)\n",
    "    except requests.exceptions.HTTPError:\n",
    "        print(f\"Ошибка HTTP 500 при запросе {i}. Повторный запрос.\")\n",
    "        # Повторный запрос\n",
    "        response_object = requests.get(get_scrape(i))\n",
    "        response_object.raise_for_status()\n",
    "        tree_object = BeautifulSoup(response_object.content, 'html.parser')\n",
    "        result = parse_one_flat(tree_object)\n",
    "        d[i].update(result)\n",
    "    except Exception as e:\n",
    "        print(f\"Произошла ошибка при запросе {i}: {str(e)}\")"
   ]
  },
  {
   "cell_type": "code",
   "execution_count": 125,
   "id": "5730f1b2",
   "metadata": {},
   "outputs": [],
   "source": [
    "df_2 = pd.DataFrame(d).T"
   ]
  },
  {
   "cell_type": "code",
   "execution_count": 135,
   "id": "bc277fa9",
   "metadata": {},
   "outputs": [],
   "source": [
    "df = pd.read_excel('C:/project_one.xlsx')"
   ]
  },
  {
   "cell_type": "code",
   "execution_count": 137,
   "id": "ea1a6dc5",
   "metadata": {},
   "outputs": [],
   "source": [
    "df = df = df.set_index('href')"
   ]
  },
  {
   "cell_type": "code",
   "execution_count": 139,
   "id": "d6364040",
   "metadata": {},
   "outputs": [],
   "source": [
    "df = df.drop('Unnamed: 0', axis=1)"
   ]
  },
  {
   "cell_type": "code",
   "execution_count": 148,
   "id": "7d338688",
   "metadata": {},
   "outputs": [],
   "source": [
    "result = pd.concat([df, df_2])\n",
    "result.to_excel('MaximDavydovProject.xlsx')"
   ]
  }
 ],
 "metadata": {
  "kernelspec": {
   "display_name": "Python 3 (ipykernel)",
   "language": "python",
   "name": "python3"
  },
  "language_info": {
   "codemirror_mode": {
    "name": "ipython",
    "version": 3
   },
   "file_extension": ".py",
   "mimetype": "text/x-python",
   "name": "python",
   "nbconvert_exporter": "python",
   "pygments_lexer": "ipython3",
   "version": "3.9.7"
  }
 },
 "nbformat": 4,
 "nbformat_minor": 5
}
